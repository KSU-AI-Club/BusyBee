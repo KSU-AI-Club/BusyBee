{
 "cells": [
  {
   "cell_type": "code",
   "execution_count": 1,
   "id": "81c044dc-9fab-47cd-b855-261ac6947826",
   "metadata": {},
   "outputs": [
    {
     "data": {
      "text/plain": [
       "True"
      ]
     },
     "execution_count": 1,
     "metadata": {},
     "output_type": "execute_result"
    }
   ],
   "source": [
    "# If you are running this within a python venv and have the error \"Module not found: numpy\", \n",
    "# ensure that your kernel is set to $VENV_NAME and run $python -m ipykernel install --user --name=$VENV_NAME \n",
    "# You will need to pip install numpy, tqdm, vit_pytorch, and ipywidgets\n",
    "import math\n",
    "import numpy as np\n",
    "import torch\n",
    "import torch.nn as nn\n",
    "import torch.nn.functional as F\n",
    "import torch.cuda as cuda\n",
    "from torch.utils.data import DataLoader\n",
    "import os\n",
    "import time\n",
    "from torchvision import datasets, transforms\n",
    "import torch.optim as optim\n",
    "from torch.optim.lr_scheduler import StepLR\n",
    "from tqdm.notebook import tqdm\n",
    "import matplotlib.pyplot as plt\n",
    "#import timm # Unofficial pytorch image models, for comparison\n",
    "from PIL import Image\n",
    "%matplotlib inline\n",
    "\n",
    "device = torch.device(\"cuda:0\" if torch.cuda.is_available() else \"cpu\") # Use Nvidia GPU if available, for faster results\n",
    "# Uncomment below to verify cuda is working\n",
    "torch.cuda.is_available()"
   ]
  },
  {
   "cell_type": "code",
   "execution_count": 2,
   "id": "fe709f3a-7071-4f6c-be88-e960aff067f4",
   "metadata": {},
   "outputs": [],
   "source": [
    "# Define the transformations that will be applied to the images during the loading process\n",
    "transform = transforms.Compose([\n",
    "    transforms.Resize((128,128)),\n",
    "    transforms.ToTensor(),\n",
    "    #transforms.Normalize(mean=[0.485, 0.456, 0.406], std=[0.229, 0.224, 0.225]) # Mean and Std. Dev values used here are commonly used with the ImageNet dataset\n",
    "])"
   ]
  },
  {
   "cell_type": "code",
   "execution_count": 3,
   "id": "c3b105fa-994f-4615-9d1a-1a8e58d2af87",
   "metadata": {},
   "outputs": [],
   "source": [
    "# Training Settings\n",
    "batch_size = 32 # This should usually be kept to a size that is a power of two\n",
    "epochs = 40 # Need to monitor validation loss during training to avoid overfitting https://datascience.stackexchange.com/questions/46523/is-a-large-number-of-epochs-good-or-bad-idea-in-cnn\n",
    "lr = 3e-5 # Need to implement learning rate decay \n",
    "gamma = 0.7\n",
    "seed = 2147483647\n",
    "# We'll use a PyTorch Generator to make things repeatable (deterministic)\n",
    "g = torch.Generator().manual_seed(seed)"
   ]
  },
  {
   "cell_type": "code",
   "execution_count": 4,
   "id": "0e4fe2a1-0446-40c0-a22f-8c7387eea951",
   "metadata": {},
   "outputs": [],
   "source": [
    "# Define path to dataset\n",
    "train_path = \"%s/../data/train/\" % (os.getcwd())\n",
    "test_path = \"%s/../data/test/\" % (os.getcwd())\n",
    "\n",
    "# Load Datasets with labels\n",
    "train_dset = datasets.ImageFolder(train_path, transform=transform) # Automatially assigns labels to examples based on the directory name\n",
    "test_dset = datasets.ImageFolder(test_path, transform=transform)\n",
    "\n",
    "# Create Data Loaders\n",
    "train_dl = DataLoader(train_dset, batch_size=batch_size, shuffle=True)\n",
    "test_dl = DataLoader(test_dset, batch_size=batch_size, shuffle=True)"
   ]
  },
  {
   "cell_type": "code",
   "execution_count": 5,
   "id": "0a25fee3-472f-451f-9bfb-d7f910378291",
   "metadata": {},
   "outputs": [],
   "source": [
    "def train_model(model, name):\n",
    "    # Loss Function\n",
    "    criterion = nn.CrossEntropyLoss()\n",
    "    # Optimizer\n",
    "    optimizer = optim.Adam(model.parameters(), lr=lr)\n",
    "    # Scheduler\n",
    "    scheduler = StepLR(optimizer, step_size=1, gamma=gamma)\n",
    "    print(\"\")\n",
    "    print(\"++++++++++++++++++++++++++++++++++++++++\")\n",
    "    print(f\"Training Run [Model: {name}]\")\n",
    "    print(\"++++++++++++++++++++++++++++++++++++++++\")\n",
    "    \n",
    "    # Training Time\n",
    "    start_event = cuda.Event(enable_timing=True)\n",
    "    end_event = cuda.Event(enable_timing=True)\n",
    "    # Begin Clock\n",
    "    start_event.record()\n",
    "    \n",
    "    # Training Loop\n",
    "    for epoch in range(epochs):\n",
    "        epoch_loss = 0\n",
    "        epoch_accuracy = 0\n",
    "        \n",
    "        for data, label in tqdm(train_dl):\n",
    "            data = data.to(device) # Ensure we're processing data on GPU\n",
    "            label = label.to(device)\n",
    "        \n",
    "            output = model(data)\n",
    "            loss = criterion(output, label)\n",
    "            #training_loss[f\"{name}\"].append(loss) # Automate tracking of stats by pushing results to list\n",
    "        \n",
    "            optimizer.zero_grad() # Zero out the gradient -- we'll experience weird bugs if we forget to do so\n",
    "            loss.backward()\n",
    "            optimizer.step()\n",
    "        \n",
    "            acc = (output.argmax(dim=1) == label).float().mean()\n",
    "            #training_accuracy[f\"{name}\"].append(acc) # Automate tracking of stats by pushing results to list\n",
    "            epoch_accuracy += acc / len(train_dl)\n",
    "            epoch_loss += loss / len(train_dl)\n",
    "        \n",
    "        print(f\"Epoch: {epoch+1} - loss: {epoch_loss:.4f} - acc: {epoch_accuracy:.4f}\")\n",
    "       \n",
    "    # End Clock\n",
    "    end_event.record()\n",
    "    cuda.synchronize() # Wait for GPU operations to complete\n",
    "    time = start_event.elapsed_time(end_event) / 1000 # Convert to seconds\n",
    "    num_examples = batch_size * len(train_dl)\n",
    "    time_per_example = time / (num_examples * epochs)\n",
    "    print(f\"It took {time} seconds to train {name} on {num_examples} examples over {epochs} epochs.\")\n",
    "    print(f\"That averages to {time_per_example} seconds per example\")\n",
    "        \n",
    "    print(\"++++++++++++++++++++++++++++++++++++++++\")\n",
    "    print(f\"Test Run [Model: {name}] \")\n",
    "    print(\"++++++++++++++++++++++++++++++++++++++++\")\n",
    "    accuracies = []\n",
    "    batch_acc = 0\n",
    "    for data, label in tqdm(test_dl):\n",
    "        data = data.to(device)\n",
    "        label = label.to(device)\n",
    "        output = model(data)\n",
    "        acc = (output.argmax(dim=1) == label).float().mean().cpu().detach().numpy()\n",
    "        batch_acc += acc / len(test_dl)\n",
    "        accuracies.append(batch_acc)\n",
    "        \n",
    "    print(f\"Test Accuracy: {accuracies[-1]} - Number of test cases: {len(test_dl) * batch_size}\")"
   ]
  },
  {
   "cell_type": "code",
   "execution_count": 6,
   "id": "1e3a46cf-3067-4d6b-8323-b9b0bc8d5d7b",
   "metadata": {},
   "outputs": [
    {
     "name": "stdout",
     "output_type": "stream",
     "text": [
      "\n",
      "++++++++++++++++++++++++++++++++++++++++\n",
      "Training Run [Model: VanillaViT]\n",
      "++++++++++++++++++++++++++++++++++++++++\n"
     ]
    },
    {
     "data": {
      "application/vnd.jupyter.widget-view+json": {
       "model_id": "16b8e5d5178d47969d6a134412e4f7e8",
       "version_major": 2,
       "version_minor": 0
      },
      "text/plain": [
       "  0%|          | 0/349 [00:00<?, ?it/s]"
      ]
     },
     "metadata": {},
     "output_type": "display_data"
    },
    {
     "name": "stdout",
     "output_type": "stream",
     "text": [
      "Epoch: 1 - loss: 1.6957 - acc: 0.3992\n"
     ]
    },
    {
     "data": {
      "application/vnd.jupyter.widget-view+json": {
       "model_id": "ad025f2feec540c98f226f1192ca55e5",
       "version_major": 2,
       "version_minor": 0
      },
      "text/plain": [
       "  0%|          | 0/349 [00:00<?, ?it/s]"
      ]
     },
     "metadata": {},
     "output_type": "display_data"
    },
    {
     "name": "stdout",
     "output_type": "stream",
     "text": [
      "Epoch: 2 - loss: 1.6151 - acc: 0.4194\n"
     ]
    },
    {
     "data": {
      "application/vnd.jupyter.widget-view+json": {
       "model_id": "aa74531981ee49eaa1640ca2f9f190d5",
       "version_major": 2,
       "version_minor": 0
      },
      "text/plain": [
       "  0%|          | 0/349 [00:00<?, ?it/s]"
      ]
     },
     "metadata": {},
     "output_type": "display_data"
    },
    {
     "name": "stdout",
     "output_type": "stream",
     "text": [
      "Epoch: 3 - loss: 1.5300 - acc: 0.4520\n"
     ]
    },
    {
     "data": {
      "application/vnd.jupyter.widget-view+json": {
       "model_id": "615cc6a12df64f0ca05dc588d31bcd07",
       "version_major": 2,
       "version_minor": 0
      },
      "text/plain": [
       "  0%|          | 0/349 [00:00<?, ?it/s]"
      ]
     },
     "metadata": {},
     "output_type": "display_data"
    },
    {
     "name": "stdout",
     "output_type": "stream",
     "text": [
      "Epoch: 4 - loss: 1.4582 - acc: 0.4782\n"
     ]
    },
    {
     "data": {
      "application/vnd.jupyter.widget-view+json": {
       "model_id": "6a999c4e8a5a4aa18b9dd6440e24f9b2",
       "version_major": 2,
       "version_minor": 0
      },
      "text/plain": [
       "  0%|          | 0/349 [00:00<?, ?it/s]"
      ]
     },
     "metadata": {},
     "output_type": "display_data"
    },
    {
     "name": "stdout",
     "output_type": "stream",
     "text": [
      "Epoch: 5 - loss: 1.3318 - acc: 0.5315\n"
     ]
    },
    {
     "data": {
      "application/vnd.jupyter.widget-view+json": {
       "model_id": "8d8d6b0859ae488980271ac9336efa33",
       "version_major": 2,
       "version_minor": 0
      },
      "text/plain": [
       "  0%|          | 0/349 [00:00<?, ?it/s]"
      ]
     },
     "metadata": {},
     "output_type": "display_data"
    },
    {
     "name": "stdout",
     "output_type": "stream",
     "text": [
      "Epoch: 6 - loss: 1.1749 - acc: 0.5904\n"
     ]
    },
    {
     "data": {
      "application/vnd.jupyter.widget-view+json": {
       "model_id": "eef638f0008a43fcbfb04cd2b92a7207",
       "version_major": 2,
       "version_minor": 0
      },
      "text/plain": [
       "  0%|          | 0/349 [00:00<?, ?it/s]"
      ]
     },
     "metadata": {},
     "output_type": "display_data"
    },
    {
     "name": "stdout",
     "output_type": "stream",
     "text": [
      "Epoch: 7 - loss: 0.9695 - acc: 0.6620\n"
     ]
    },
    {
     "data": {
      "application/vnd.jupyter.widget-view+json": {
       "model_id": "ff584b4b75d14de89e835d622f2bf3a3",
       "version_major": 2,
       "version_minor": 0
      },
      "text/plain": [
       "  0%|          | 0/349 [00:00<?, ?it/s]"
      ]
     },
     "metadata": {},
     "output_type": "display_data"
    },
    {
     "name": "stdout",
     "output_type": "stream",
     "text": [
      "Epoch: 8 - loss: 0.7599 - acc: 0.7333\n"
     ]
    },
    {
     "data": {
      "application/vnd.jupyter.widget-view+json": {
       "model_id": "2a4d9ea697ba4bd78880b8020b7c546f",
       "version_major": 2,
       "version_minor": 0
      },
      "text/plain": [
       "  0%|          | 0/349 [00:00<?, ?it/s]"
      ]
     },
     "metadata": {},
     "output_type": "display_data"
    },
    {
     "name": "stdout",
     "output_type": "stream",
     "text": [
      "Epoch: 9 - loss: 0.5651 - acc: 0.8012\n"
     ]
    },
    {
     "data": {
      "application/vnd.jupyter.widget-view+json": {
       "model_id": "d040d6334b9d4d22ad8ca807e20df17a",
       "version_major": 2,
       "version_minor": 0
      },
      "text/plain": [
       "  0%|          | 0/349 [00:00<?, ?it/s]"
      ]
     },
     "metadata": {},
     "output_type": "display_data"
    },
    {
     "name": "stdout",
     "output_type": "stream",
     "text": [
      "Epoch: 10 - loss: 0.3904 - acc: 0.8666\n"
     ]
    },
    {
     "data": {
      "application/vnd.jupyter.widget-view+json": {
       "model_id": "b1b6fa8302ac418fbf0a29d6bb8a4c2a",
       "version_major": 2,
       "version_minor": 0
      },
      "text/plain": [
       "  0%|          | 0/349 [00:00<?, ?it/s]"
      ]
     },
     "metadata": {},
     "output_type": "display_data"
    },
    {
     "name": "stdout",
     "output_type": "stream",
     "text": [
      "Epoch: 11 - loss: 0.2905 - acc: 0.9032\n"
     ]
    },
    {
     "data": {
      "application/vnd.jupyter.widget-view+json": {
       "model_id": "cd64fa69c71d4dfbb4cfe6bf97aa7876",
       "version_major": 2,
       "version_minor": 0
      },
      "text/plain": [
       "  0%|          | 0/349 [00:00<?, ?it/s]"
      ]
     },
     "metadata": {},
     "output_type": "display_data"
    },
    {
     "name": "stdout",
     "output_type": "stream",
     "text": [
      "Epoch: 12 - loss: 0.2226 - acc: 0.9258\n"
     ]
    },
    {
     "data": {
      "application/vnd.jupyter.widget-view+json": {
       "model_id": "070d67a10d604611be5331f02762240f",
       "version_major": 2,
       "version_minor": 0
      },
      "text/plain": [
       "  0%|          | 0/349 [00:00<?, ?it/s]"
      ]
     },
     "metadata": {},
     "output_type": "display_data"
    },
    {
     "name": "stdout",
     "output_type": "stream",
     "text": [
      "Epoch: 13 - loss: 0.1868 - acc: 0.9360\n"
     ]
    },
    {
     "data": {
      "application/vnd.jupyter.widget-view+json": {
       "model_id": "9f09984ba5374d2088edec2e6591885e",
       "version_major": 2,
       "version_minor": 0
      },
      "text/plain": [
       "  0%|          | 0/349 [00:00<?, ?it/s]"
      ]
     },
     "metadata": {},
     "output_type": "display_data"
    },
    {
     "name": "stdout",
     "output_type": "stream",
     "text": [
      "Epoch: 14 - loss: 0.1702 - acc: 0.9422\n"
     ]
    },
    {
     "data": {
      "application/vnd.jupyter.widget-view+json": {
       "model_id": "865f717d440a49dd81bdf942d09b3026",
       "version_major": 2,
       "version_minor": 0
      },
      "text/plain": [
       "  0%|          | 0/349 [00:00<?, ?it/s]"
      ]
     },
     "metadata": {},
     "output_type": "display_data"
    },
    {
     "name": "stdout",
     "output_type": "stream",
     "text": [
      "Epoch: 15 - loss: 0.1506 - acc: 0.9489\n"
     ]
    },
    {
     "data": {
      "application/vnd.jupyter.widget-view+json": {
       "model_id": "e01815d0025a44c18635134bda3f8b1c",
       "version_major": 2,
       "version_minor": 0
      },
      "text/plain": [
       "  0%|          | 0/349 [00:00<?, ?it/s]"
      ]
     },
     "metadata": {},
     "output_type": "display_data"
    },
    {
     "name": "stdout",
     "output_type": "stream",
     "text": [
      "Epoch: 16 - loss: 0.1222 - acc: 0.9591\n"
     ]
    },
    {
     "data": {
      "application/vnd.jupyter.widget-view+json": {
       "model_id": "23f69cdeba794a7694ed75d2daec679b",
       "version_major": 2,
       "version_minor": 0
      },
      "text/plain": [
       "  0%|          | 0/349 [00:00<?, ?it/s]"
      ]
     },
     "metadata": {},
     "output_type": "display_data"
    },
    {
     "name": "stdout",
     "output_type": "stream",
     "text": [
      "Epoch: 17 - loss: 0.1183 - acc: 0.9609\n"
     ]
    },
    {
     "data": {
      "application/vnd.jupyter.widget-view+json": {
       "model_id": "5bb0ec55209b43d4bc5d18fb001f6461",
       "version_major": 2,
       "version_minor": 0
      },
      "text/plain": [
       "  0%|          | 0/349 [00:00<?, ?it/s]"
      ]
     },
     "metadata": {},
     "output_type": "display_data"
    },
    {
     "name": "stdout",
     "output_type": "stream",
     "text": [
      "Epoch: 18 - loss: 0.1129 - acc: 0.9596\n"
     ]
    },
    {
     "data": {
      "application/vnd.jupyter.widget-view+json": {
       "model_id": "8f29344c149948b181d250872be07df1",
       "version_major": 2,
       "version_minor": 0
      },
      "text/plain": [
       "  0%|          | 0/349 [00:00<?, ?it/s]"
      ]
     },
     "metadata": {},
     "output_type": "display_data"
    },
    {
     "name": "stdout",
     "output_type": "stream",
     "text": [
      "Epoch: 19 - loss: 0.2138 - acc: 0.9270\n"
     ]
    },
    {
     "data": {
      "application/vnd.jupyter.widget-view+json": {
       "model_id": "1cf458182a1043c7a4b3f436e0ff6778",
       "version_major": 2,
       "version_minor": 0
      },
      "text/plain": [
       "  0%|          | 0/349 [00:00<?, ?it/s]"
      ]
     },
     "metadata": {},
     "output_type": "display_data"
    },
    {
     "name": "stdout",
     "output_type": "stream",
     "text": [
      "Epoch: 20 - loss: 0.1322 - acc: 0.9558\n"
     ]
    },
    {
     "data": {
      "application/vnd.jupyter.widget-view+json": {
       "model_id": "ca54c6d3a2f14bccad3e7fc3018aaefc",
       "version_major": 2,
       "version_minor": 0
      },
      "text/plain": [
       "  0%|          | 0/349 [00:00<?, ?it/s]"
      ]
     },
     "metadata": {},
     "output_type": "display_data"
    },
    {
     "name": "stdout",
     "output_type": "stream",
     "text": [
      "Epoch: 21 - loss: 0.0730 - acc: 0.9747\n"
     ]
    },
    {
     "data": {
      "application/vnd.jupyter.widget-view+json": {
       "model_id": "1dfbf835cf7c463cadbeeae7660bfb77",
       "version_major": 2,
       "version_minor": 0
      },
      "text/plain": [
       "  0%|          | 0/349 [00:00<?, ?it/s]"
      ]
     },
     "metadata": {},
     "output_type": "display_data"
    },
    {
     "name": "stdout",
     "output_type": "stream",
     "text": [
      "Epoch: 22 - loss: 0.0616 - acc: 0.9784\n"
     ]
    },
    {
     "data": {
      "application/vnd.jupyter.widget-view+json": {
       "model_id": "6702799f240b435c895c1f8507f80c38",
       "version_major": 2,
       "version_minor": 0
      },
      "text/plain": [
       "  0%|          | 0/349 [00:00<?, ?it/s]"
      ]
     },
     "metadata": {},
     "output_type": "display_data"
    },
    {
     "name": "stdout",
     "output_type": "stream",
     "text": [
      "Epoch: 23 - loss: 0.0767 - acc: 0.9740\n"
     ]
    },
    {
     "data": {
      "application/vnd.jupyter.widget-view+json": {
       "model_id": "95d38ec1053e41628665d3b264a2374f",
       "version_major": 2,
       "version_minor": 0
      },
      "text/plain": [
       "  0%|          | 0/349 [00:00<?, ?it/s]"
      ]
     },
     "metadata": {},
     "output_type": "display_data"
    },
    {
     "name": "stdout",
     "output_type": "stream",
     "text": [
      "Epoch: 24 - loss: 0.0774 - acc: 0.9731\n"
     ]
    },
    {
     "data": {
      "application/vnd.jupyter.widget-view+json": {
       "model_id": "70d12e491bfb418582a99a44805780b8",
       "version_major": 2,
       "version_minor": 0
      },
      "text/plain": [
       "  0%|          | 0/349 [00:00<?, ?it/s]"
      ]
     },
     "metadata": {},
     "output_type": "display_data"
    },
    {
     "name": "stdout",
     "output_type": "stream",
     "text": [
      "Epoch: 25 - loss: 0.0654 - acc: 0.9786\n"
     ]
    },
    {
     "data": {
      "application/vnd.jupyter.widget-view+json": {
       "model_id": "67a4533d3f95438da6bfd551d0690371",
       "version_major": 2,
       "version_minor": 0
      },
      "text/plain": [
       "  0%|          | 0/349 [00:00<?, ?it/s]"
      ]
     },
     "metadata": {},
     "output_type": "display_data"
    },
    {
     "name": "stdout",
     "output_type": "stream",
     "text": [
      "Epoch: 26 - loss: 0.0864 - acc: 0.9716\n"
     ]
    },
    {
     "data": {
      "application/vnd.jupyter.widget-view+json": {
       "model_id": "3426c3c95e4b476a91184084cf193b4d",
       "version_major": 2,
       "version_minor": 0
      },
      "text/plain": [
       "  0%|          | 0/349 [00:00<?, ?it/s]"
      ]
     },
     "metadata": {},
     "output_type": "display_data"
    },
    {
     "name": "stdout",
     "output_type": "stream",
     "text": [
      "Epoch: 27 - loss: 0.0666 - acc: 0.9784\n"
     ]
    },
    {
     "data": {
      "application/vnd.jupyter.widget-view+json": {
       "model_id": "093b200e880447a2a0a0400b7ef50b2f",
       "version_major": 2,
       "version_minor": 0
      },
      "text/plain": [
       "  0%|          | 0/349 [00:00<?, ?it/s]"
      ]
     },
     "metadata": {},
     "output_type": "display_data"
    },
    {
     "name": "stdout",
     "output_type": "stream",
     "text": [
      "Epoch: 28 - loss: 0.0706 - acc: 0.9732\n"
     ]
    },
    {
     "data": {
      "application/vnd.jupyter.widget-view+json": {
       "model_id": "e86616eb17864d6ead4a3caa45a38f3b",
       "version_major": 2,
       "version_minor": 0
      },
      "text/plain": [
       "  0%|          | 0/349 [00:00<?, ?it/s]"
      ]
     },
     "metadata": {},
     "output_type": "display_data"
    },
    {
     "name": "stdout",
     "output_type": "stream",
     "text": [
      "Epoch: 29 - loss: 0.1389 - acc: 0.9539\n"
     ]
    },
    {
     "data": {
      "application/vnd.jupyter.widget-view+json": {
       "model_id": "bcc4e9acaf254d3594dfb49a375b6e27",
       "version_major": 2,
       "version_minor": 0
      },
      "text/plain": [
       "  0%|          | 0/349 [00:00<?, ?it/s]"
      ]
     },
     "metadata": {},
     "output_type": "display_data"
    },
    {
     "name": "stdout",
     "output_type": "stream",
     "text": [
      "Epoch: 30 - loss: 0.0443 - acc: 0.9846\n"
     ]
    },
    {
     "data": {
      "application/vnd.jupyter.widget-view+json": {
       "model_id": "a7866a2c969e474dab0418d47237302f",
       "version_major": 2,
       "version_minor": 0
      },
      "text/plain": [
       "  0%|          | 0/349 [00:00<?, ?it/s]"
      ]
     },
     "metadata": {},
     "output_type": "display_data"
    },
    {
     "name": "stdout",
     "output_type": "stream",
     "text": [
      "Epoch: 31 - loss: 0.0516 - acc: 0.9826\n"
     ]
    },
    {
     "data": {
      "application/vnd.jupyter.widget-view+json": {
       "model_id": "88c0be3817b64b6e8a8f40dcc510527e",
       "version_major": 2,
       "version_minor": 0
      },
      "text/plain": [
       "  0%|          | 0/349 [00:00<?, ?it/s]"
      ]
     },
     "metadata": {},
     "output_type": "display_data"
    },
    {
     "name": "stdout",
     "output_type": "stream",
     "text": [
      "Epoch: 32 - loss: 0.0552 - acc: 0.9813\n"
     ]
    },
    {
     "data": {
      "application/vnd.jupyter.widget-view+json": {
       "model_id": "0db00da354614d9cb1e2d9dc71df5c2d",
       "version_major": 2,
       "version_minor": 0
      },
      "text/plain": [
       "  0%|          | 0/349 [00:00<?, ?it/s]"
      ]
     },
     "metadata": {},
     "output_type": "display_data"
    },
    {
     "name": "stdout",
     "output_type": "stream",
     "text": [
      "Epoch: 33 - loss: 0.0629 - acc: 0.9785\n"
     ]
    },
    {
     "data": {
      "application/vnd.jupyter.widget-view+json": {
       "model_id": "38235cf0f69b41a1a55b9df161f9cf25",
       "version_major": 2,
       "version_minor": 0
      },
      "text/plain": [
       "  0%|          | 0/349 [00:00<?, ?it/s]"
      ]
     },
     "metadata": {},
     "output_type": "display_data"
    },
    {
     "name": "stdout",
     "output_type": "stream",
     "text": [
      "Epoch: 34 - loss: 0.0494 - acc: 0.9834\n"
     ]
    },
    {
     "data": {
      "application/vnd.jupyter.widget-view+json": {
       "model_id": "407a7760c4ff4bd7b27b7074b2c0bdf4",
       "version_major": 2,
       "version_minor": 0
      },
      "text/plain": [
       "  0%|          | 0/349 [00:00<?, ?it/s]"
      ]
     },
     "metadata": {},
     "output_type": "display_data"
    },
    {
     "name": "stdout",
     "output_type": "stream",
     "text": [
      "Epoch: 35 - loss: 0.0507 - acc: 0.9822\n"
     ]
    },
    {
     "data": {
      "application/vnd.jupyter.widget-view+json": {
       "model_id": "06603ae96db740d0ace0c3ed3eaf9475",
       "version_major": 2,
       "version_minor": 0
      },
      "text/plain": [
       "  0%|          | 0/349 [00:00<?, ?it/s]"
      ]
     },
     "metadata": {},
     "output_type": "display_data"
    },
    {
     "name": "stdout",
     "output_type": "stream",
     "text": [
      "Epoch: 36 - loss: 0.0565 - acc: 0.9788\n"
     ]
    },
    {
     "data": {
      "application/vnd.jupyter.widget-view+json": {
       "model_id": "c742f17a97224797af3919a28c0eb4e1",
       "version_major": 2,
       "version_minor": 0
      },
      "text/plain": [
       "  0%|          | 0/349 [00:00<?, ?it/s]"
      ]
     },
     "metadata": {},
     "output_type": "display_data"
    },
    {
     "name": "stdout",
     "output_type": "stream",
     "text": [
      "Epoch: 37 - loss: 0.0584 - acc: 0.9803\n"
     ]
    },
    {
     "data": {
      "application/vnd.jupyter.widget-view+json": {
       "model_id": "7398dc315cdb4bb3ba8d96783d2f4f38",
       "version_major": 2,
       "version_minor": 0
      },
      "text/plain": [
       "  0%|          | 0/349 [00:00<?, ?it/s]"
      ]
     },
     "metadata": {},
     "output_type": "display_data"
    },
    {
     "name": "stdout",
     "output_type": "stream",
     "text": [
      "Epoch: 38 - loss: 0.0475 - acc: 0.9858\n"
     ]
    },
    {
     "data": {
      "application/vnd.jupyter.widget-view+json": {
       "model_id": "3611496c89844d499d4f8392a75e93c7",
       "version_major": 2,
       "version_minor": 0
      },
      "text/plain": [
       "  0%|          | 0/349 [00:00<?, ?it/s]"
      ]
     },
     "metadata": {},
     "output_type": "display_data"
    },
    {
     "name": "stdout",
     "output_type": "stream",
     "text": [
      "Epoch: 39 - loss: 0.0416 - acc: 0.9845\n"
     ]
    },
    {
     "data": {
      "application/vnd.jupyter.widget-view+json": {
       "model_id": "c93256b52e3c4fbf995dbd4db97ba076",
       "version_major": 2,
       "version_minor": 0
      },
      "text/plain": [
       "  0%|          | 0/349 [00:00<?, ?it/s]"
      ]
     },
     "metadata": {},
     "output_type": "display_data"
    },
    {
     "name": "stdout",
     "output_type": "stream",
     "text": [
      "Epoch: 40 - loss: 0.0514 - acc: 0.9814\n",
      "It took 7761.0655 seconds to train VanillaViT on 11168 examples over 40 epochs.\n",
      "That averages to 0.017373445334885385 seconds per example\n",
      "++++++++++++++++++++++++++++++++++++++++\n",
      "Test Run [Model: VanillaViT] \n",
      "++++++++++++++++++++++++++++++++++++++++\n"
     ]
    },
    {
     "data": {
      "application/vnd.jupyter.widget-view+json": {
       "model_id": "5d9dc9400c1f4a37a84d894f073f10e0",
       "version_major": 2,
       "version_minor": 0
      },
      "text/plain": [
       "  0%|          | 0/367 [00:00<?, ?it/s]"
      ]
     },
     "metadata": {},
     "output_type": "display_data"
    },
    {
     "name": "stdout",
     "output_type": "stream",
     "text": [
      "Test Accuracy: 0.9691246593680639 - Number of test cases: 11744\n"
     ]
    }
   ],
   "source": [
    "# Model 1: VanillaViT\n",
    "# Need to get rid of magic numers here\n",
    "from vit_pytorch import ViT\n",
    "\n",
    "VanillaViT = ViT(\n",
    "    image_size = 128,\n",
    "    patch_size = 8,\n",
    "    num_classes = 22,\n",
    "    dim = 1024,\n",
    "    depth = 6,\n",
    "    heads = 16,\n",
    "    mlp_dim = 2048,\n",
    "    dropout = 0.1,\n",
    "    emb_dropout = 0.1\n",
    ").to(device)\n",
    "train_model(VanillaViT, \"VanillaViT\")"
   ]
  },
  {
   "cell_type": "code",
   "execution_count": 20,
   "id": "eae05210-c81a-4e08-8149-9a0785b54d6f",
   "metadata": {},
   "outputs": [
    {
     "data": {
      "image/jpeg": "[encoded data removed]",
      "image/png": "[encoded data removed]",
      "text/plain": [
       "<PIL.Image.Image image mode=RGB size=128x128>"
      ]
     },
     "metadata": {},
     "output_type": "display_data"
    },
    {
     "name": "stdout",
     "output_type": "stream",
     "text": [
      "The VanillaViT model believes this bee is a Augochlorini\n",
      "Ground truth: This bee is a Augochlorini\n"
     ]
    },
    {
     "data": {
      "image/jpeg": "[encoded data removed]",
      "image/png": "[encoded data removed]",
      "text/plain": [
       "<PIL.Image.Image image mode=RGB size=128x128>"
      ]
     },
     "metadata": {},
     "output_type": "display_data"
    },
    {
     "name": "stdout",
     "output_type": "stream",
     "text": [
      "The VanillaViT model believes this bee is a Bombini\n",
      "Ground truth: This bee is a Bombini\n"
     ]
    },
    {
     "data": {
      "image/jpeg": "[encoded data removed]",
      "image/png": "[encoded data removed]",
      "text/plain": [
       "<PIL.Image.Image image mode=RGB size=128x128>"
      ]
     },
     "metadata": {},
     "output_type": "display_data"
    },
    {
     "name": "stdout",
     "output_type": "stream",
     "text": [
      "The VanillaViT model believes this bee is a Halictini\n",
      "Ground truth: This bee is a Halictini\n"
     ]
    },
    {
     "data": {
      "image/jpeg": "[encoded data removed]",
      "image/png": "[encoded data removed]",
      "text/plain": [
       "<PIL.Image.Image image mode=RGB size=128x128>"
      ]
     },
     "metadata": {},
     "output_type": "display_data"
    },
    {
     "name": "stdout",
     "output_type": "stream",
     "text": [
      "The VanillaViT model believes this bee is a Osmiini\n",
      "Ground truth: This bee is a Osmiini\n"
     ]
    }
   ],
   "source": [
    "# Perform Inference using model\n",
    "import torchvision.transforms.functional as TF\n",
    "\n",
    "# Classes defined in alphabetical order\n",
    "classes = [\n",
    "    \"Ammobatoidini\",\n",
    "    \"Andrenini\",\n",
    "    \"Anthidiini\",\n",
    "    \"Anthophorini\",\n",
    "    \"Apini\",\n",
    "    \"Augochlorini\",\n",
    "    \"Bombini\",\n",
    "    \"Calliopsini\",\n",
    "    \"Caupolicanini\",\n",
    "    \"Ceratinini\",\n",
    "    \"Emphorini\",\n",
    "    \"Epeolini\",\n",
    "    \"Eucerini\",\n",
    "    \"Halictini\",\n",
    "    \"Megachilini\",\n",
    "    \"Melectini\",\n",
    "    \"Nomadini\",\n",
    "    \"Osmiini\",\n",
    "    \"Panurgini\",\n",
    "    \"Protandrenini\",\n",
    "    \"Sphecodini\",\n",
    "    \"Xylocopini\",\n",
    "]\n",
    "\n",
    "# Load our demo image (taken from test set)\n",
    "demo_images = {\n",
    "    \"Augochlorini_2870.jpg\": \"Augochlorini\",\n",
    "    \"Bombini_129.jpg\": \"Bombini\",\n",
    "    \"Halictini_745.jpg\": \"Halictini\",\n",
    "    \"Osmiini_1551.jpg\": \"Osmiini\",\n",
    "}\n",
    "\n",
    "def demo(filename, ground_truth):\n",
    "\n",
    "    demo_image_path = \"{}/../data/demo_img/{}\".format(os.getcwd(), filename)\n",
    "    demo_img = Image.open(demo_image_path).resize((128,128), resample=0)\n",
    "\n",
    "    # Display image\n",
    "    display(demo_img)\n",
    "\n",
    "    # Outputs a vector displaying the models predictions\n",
    "    demo_img = TF.to_tensor(demo_img)\n",
    "    demo_img.unsqueeze_(0) #need to provide the batch dimension at dim0\n",
    "    demo_img = demo_img.to(device)\n",
    "    predictions = VanillaViT(demo_img)\n",
    "\n",
    "    # Get index of max value (most confident prediction)\n",
    "    tribe = torch.argmax(predictions)\n",
    "\n",
    "    print(\"The VanillaViT model believes this bee is a {}\".format(classes[tribe]))\n",
    "    print(\"Ground truth: This bee is a {}\".format(ground_truth))\n",
    "\n",
    "for key, value in demo_images.items(): \n",
    "    demo(key, value)"
   ]
  },
  {
   "cell_type": "code",
   "execution_count": null,
   "id": "539ada99-9941-45b0-994a-64e05b8ae8e7",
   "metadata": {},
   "outputs": [],
   "source": []
  }
 ],
 "metadata": {
  "kernelspec": {
   "display_name": "torchgpu",
   "language": "python",
   "name": "torchgpu"
  },
  "language_info": {
   "codemirror_mode": {
    "name": "ipython",
    "version": 3
   },
   "file_extension": ".py",
   "mimetype": "text/x-python",
   "name": "python",
   "nbconvert_exporter": "python",
   "pygments_lexer": "ipython3",
   "version": "3.10.12"
  }
 },
 "nbformat": 4,
 "nbformat_minor": 5
}
