{
 "cells": [
  {
   "cell_type": "code",
   "execution_count": 1,
   "id": "c0bc9b61",
   "metadata": {},
   "outputs": [
    {
     "ename": "NameError",
     "evalue": "name 'transforms' is not defined",
     "output_type": "error",
     "traceback": [
      "\u001b[1;31m---------------------------------------------------------------------------\u001b[0m",
      "\u001b[1;31mNameError\u001b[0m                                 Traceback (most recent call last)",
      "Input \u001b[1;32mIn [1]\u001b[0m, in \u001b[0;36m<cell line: 4>\u001b[1;34m()\u001b[0m\n\u001b[0;32m      1\u001b[0m \u001b[38;5;66;03m# Data augmentation and normalization for training\u001b[39;00m\n\u001b[0;32m      2\u001b[0m \u001b[38;5;66;03m# Just normalization for validation\u001b[39;00m\n\u001b[0;32m      3\u001b[0m data_transforms \u001b[38;5;241m=\u001b[39m {\n\u001b[1;32m----> 4\u001b[0m     \u001b[38;5;124m'\u001b[39m\u001b[38;5;124mtrain\u001b[39m\u001b[38;5;124m'\u001b[39m: \u001b[43mtransforms\u001b[49m\u001b[38;5;241m.\u001b[39mCompose([\n\u001b[0;32m      5\u001b[0m         transforms\u001b[38;5;241m.\u001b[39mRandomResizedCrop(\u001b[38;5;241m224\u001b[39m), \u001b[38;5;66;03m# Applies Cropping\u001b[39;00m\n\u001b[0;32m      6\u001b[0m         transforms\u001b[38;5;241m.\u001b[39mRandomHorizontalFlip(), \u001b[38;5;66;03m# Applies a Random Horizontal Flip\u001b[39;00m\n\u001b[0;32m      7\u001b[0m         transforms\u001b[38;5;241m.\u001b[39mToTensor(), \u001b[38;5;66;03m# Converts the image to a Tensor\u001b[39;00m\n\u001b[0;32m      8\u001b[0m         transforms\u001b[38;5;241m.\u001b[39mNormalize([\u001b[38;5;241m0.485\u001b[39m, \u001b[38;5;241m0.456\u001b[39m, \u001b[38;5;241m0.406\u001b[39m], [\u001b[38;5;241m0.229\u001b[39m, \u001b[38;5;241m0.224\u001b[39m, \u001b[38;5;241m0.225\u001b[39m]) \u001b[38;5;66;03m# Normalizes the Image\u001b[39;00m\n\u001b[0;32m      9\u001b[0m     ]),\n\u001b[0;32m     10\u001b[0m     \u001b[38;5;124m'\u001b[39m\u001b[38;5;124mval\u001b[39m\u001b[38;5;124m'\u001b[39m: transforms\u001b[38;5;241m.\u001b[39mCompose([\n\u001b[0;32m     11\u001b[0m         transforms\u001b[38;5;241m.\u001b[39mResize(\u001b[38;5;241m256\u001b[39m), \u001b[38;5;66;03m#Applies Cropping\u001b[39;00m\n\u001b[0;32m     12\u001b[0m         transforms\u001b[38;5;241m.\u001b[39mCenterCrop(\u001b[38;5;241m224\u001b[39m), \u001b[38;5;66;03m#\u001b[39;00m\n\u001b[0;32m     13\u001b[0m         transforms\u001b[38;5;241m.\u001b[39mToTensor(), \u001b[38;5;66;03m# Converts the image to a Tensor\u001b[39;00m\n\u001b[0;32m     14\u001b[0m         transforms\u001b[38;5;241m.\u001b[39mNormalize([\u001b[38;5;241m0.485\u001b[39m, \u001b[38;5;241m0.456\u001b[39m, \u001b[38;5;241m0.406\u001b[39m], [\u001b[38;5;241m0.229\u001b[39m, \u001b[38;5;241m0.224\u001b[39m, \u001b[38;5;241m0.225\u001b[39m]) \u001b[38;5;66;03m# Normalizes the Image\u001b[39;00m\n\u001b[0;32m     15\u001b[0m     ]),\n\u001b[0;32m     16\u001b[0m }\n\u001b[0;32m     18\u001b[0m data_dir \u001b[38;5;241m=\u001b[39m \u001b[38;5;124m'\u001b[39m\u001b[38;5;124mhymenoptera_data\u001b[39m\u001b[38;5;124m'\u001b[39m \u001b[38;5;66;03m# data directory\u001b[39;00m\n\u001b[0;32m     20\u001b[0m image_datasets \u001b[38;5;241m=\u001b[39m {x: datasets\u001b[38;5;241m.\u001b[39mImageFolder(os\u001b[38;5;241m.\u001b[39mpath\u001b[38;5;241m.\u001b[39mjoin(data_dir, x), data_transforms[x]) \u001b[38;5;28;01mfor\u001b[39;00m x \u001b[38;5;129;01min\u001b[39;00m [\u001b[38;5;124m'\u001b[39m\u001b[38;5;124mtrain\u001b[39m\u001b[38;5;124m'\u001b[39m, \u001b[38;5;124m'\u001b[39m\u001b[38;5;124mval\u001b[39m\u001b[38;5;124m'\u001b[39m]}\n",
      "\u001b[1;31mNameError\u001b[0m: name 'transforms' is not defined"
     ]
    }
   ],
   "source": [
    "# Data augmentation and normalization for training\n",
    "# Just normalization for validation\n",
    "data_transforms = {\n",
    "    'train': transforms.Compose([\n",
    "        transforms.RandomResizedCrop(224), # Applies Cropping\n",
    "        transforms.RandomHorizontalFlip(), # Applies a Random Horizontal Flip\n",
    "        transforms.ToTensor(), # Converts the image to a Tensor\n",
    "        transforms.Normalize([0.485, 0.456, 0.406], [0.229, 0.224, 0.225]) # Normalizes the Image\n",
    "    ]),\n",
    "    'val': transforms.Compose([\n",
    "        transforms.Resize(256), #Applies Cropping\n",
    "        transforms.CenterCrop(224), #\n",
    "        transforms.ToTensor(), # Converts the image to a Tensor\n",
    "        transforms.Normalize([0.485, 0.456, 0.406], [0.229, 0.224, 0.225]) # Normalizes the Image\n",
    "    ]),\n",
    "}\n",
    "\n",
    "data_dir = 'hymenoptera_data' # data directory\n",
    "\n",
    "image_datasets = {x: datasets.ImageFolder(os.path.join(data_dir, x), data_transforms[x]) for x in ['train', 'val']}\n",
    "\n",
    "\n",
    "dataloaders = {x: DataLoader(image_datasets[x], batch_size=4, shuffle=True, num_workers=4) for x in ['train', 'val']}\n",
    "dataset_sizes = {x: len(image_datasets[x]) for x in ['train', 'val']}\n",
    "class_names = image_datasets['train'].classes # Gets the all the classes\n",
    "\n",
    "device = torch.device(\"cuda:0\" if torch.cuda.is_available() else \"cpu\")\n",
    "device"
   ]
  },
  {
   "cell_type": "code",
   "execution_count": null,
   "id": "73e19612",
   "metadata": {},
   "outputs": [],
   "source": [
    "def imshow(inp, title=None):\n",
    "    \"\"\"Display image for Tensor.\"\"\"\n",
    "    inp = inp.numpy().transpose((1, 2, 0)) #transpose? \n",
    "    mean = np.array([0.485, 0.456, 0.406]) # mean of the image\n",
    "    std = np.array([0.229, 0.224, 0.225]) # standard deviation for applying normalizing to the images\n",
    "    inp = std * inp + mean # normalization\n",
    "    inp = np.clip(inp, 0, 1) # any number less than 0 will become 0 and any number greater than 1 will become 1\n",
    "    plt.imshow(inp)\n",
    "    if title is not None:\n",
    "        plt.title(title)\n",
    "    plt.pause(0.001)  # pause a bit so that plots are updated\n",
    "\n",
    "\n",
    "# Get a batch of training data\n",
    "inputs, classes = next(iter(dataloaders['train']))\n",
    "\n",
    "# Make a grid from batch\n",
    "out = torchvision.utils.make_grid(inputs)\n",
    "\n",
    "imshow(out, title=[class_names[x] for x in classes])"
   ]
  },
  {
   "cell_type": "code",
   "execution_count": null,
   "id": "2b744f5e",
   "metadata": {},
   "outputs": [],
   "source": [
    "def train_model(model, criterion, optimizer, scheduler, num_epochs=25):\n",
    "    since = time.time()\n",
    "\n",
    "    # Create a temporary directory to save training checkpoints\n",
    "    with TemporaryDirectory() as tempdir:\n",
    "        best_model_params_path = os.path.join(tempdir, 'best_model_params.pt')\n",
    "\n",
    "        torch.save(model.state_dict(), best_model_params_path)\n",
    "        best_acc = 0.0\n",
    "\n",
    "        for epoch in range(num_epochs):\n",
    "            print(f'Epoch {epoch}/{num_epochs - 1}')\n",
    "            print('-' * 10)\n",
    "\n",
    "            # Each epoch has a training and validation phase\n",
    "            for phase in ['train', 'val']:\n",
    "                if phase == 'train':\n",
    "                    model.train()  # Set model to training mode\n",
    "                else:\n",
    "                    model.eval()   # Set model to evaluate mode\n",
    "\n",
    "                running_loss = 0.0\n",
    "                running_corrects = 0\n",
    "\n",
    "                # Iterate over data.\n",
    "                for inputs, labels in dataloaders[phase]:\n",
    "                    \n",
    "                    # inputs the data into the gpu\n",
    "                    inputs = inputs.to(device) \n",
    "                    labels = labels.to(device) \n",
    "\n",
    "                    # zero the parameter gradients\n",
    "                    optimizer.zero_grad()\n",
    "\n",
    "                    # forward\n",
    "                    # track history if only in train\n",
    "                    with torch.set_grad_enabled(phase == 'train'):\n",
    "                        outputs = model(inputs)\n",
    "                        _, preds = torch.max(outputs, 1)\n",
    "                        loss = criterion(outputs, labels)\n",
    "\n",
    "                        # backward + optimize only if in training phase\n",
    "                        if phase == 'train':\n",
    "                            loss.backward()\n",
    "                            optimizer.step()\n",
    "\n",
    "                    # statistics\n",
    "                    running_loss += loss.item() * inputs.size(0) # fuck whats this.\n",
    "                    \n",
    "                    # total amount of predictions that equal to the actual label\n",
    "                    running_corrects += torch.sum(preds == labels.data) \n",
    "                    \n",
    "                if phase == 'train':\n",
    "                    scheduler.step() \n",
    "\n",
    "                epoch_loss = running_loss / dataset_sizes[phase] # calculates the loss\n",
    "                epoch_acc = running_corrects.double() / dataset_sizes[phase] # calculates the accuracy\n",
    "\n",
    "                print(f'{phase} Loss: {epoch_loss:.4f} Acc: {epoch_acc:.4f}')\n",
    "\n",
    "                # deep copy the model\n",
    "                if phase == 'val' and epoch_acc > best_acc:\n",
    "                    best_acc = epoch_acc\n",
    "                    torch.save(model.state_dict(), best_model_params_path)\n",
    "\n",
    "            print()\n",
    "\n",
    "        time_elapsed = time.time() - since\n",
    "        print(f'Training complete in {time_elapsed // 60:.0f}m {time_elapsed % 60:.0f}s')\n",
    "        print(f'Best val Acc: {best_acc:4f}')\n",
    "\n",
    "        # load best model weights\n",
    "        model.load_state_dict(torch.load(best_model_params_path)) # loads the model weights\n",
    "    return model"
   ]
  },
  {
   "cell_type": "code",
   "execution_count": null,
   "id": "5cb44170",
   "metadata": {},
   "outputs": [],
   "source": [
    "def visualize_model(model, num_images=20):\n",
    "    was_training = model.training\n",
    "    model.eval()\n",
    "    images_so_far = 0\n",
    "    fig = plt.figure()\n",
    "\n",
    "    with torch.no_grad():\n",
    "        for i, (inputs, labels) in enumerate(dataloaders['val']):\n",
    "            inputs = inputs.to(device)\n",
    "            labels = labels.to(device)\n",
    "\n",
    "            outputs = model(inputs)\n",
    "            _, preds = torch.max(outputs, 1)\n",
    "\n",
    "            for j in range(inputs.size()[0]):\n",
    "                images_so_far += 1\n",
    "                ax = plt.subplot(num_images//2, 2, images_so_far)\n",
    "                ax.axis('off')\n",
    "                ax.set_title(f'predicted: {class_names[preds[j]]}')\n",
    "                imshow(inputs.cpu().data[j])\n",
    "\n",
    "                if images_so_far == num_images:\n",
    "                    model.train(mode=was_training)\n",
    "                    return\n",
    "        model.train(mode=was_training)"
   ]
  },
  {
   "cell_type": "code",
   "execution_count": null,
   "id": "2cd122fe",
   "metadata": {},
   "outputs": [],
   "source": [
    "model_ft = models.resnet18(weights='IMAGENET1K_V1')\n",
    "num_ftrs = model_ft.fc.in_features\n",
    "# Here the size of each output sample is set to 2.\n",
    "# Alternatively, it can be generalized to ``nn.Linear(num_ftrs, len(class_names))``.\n",
    "\n",
    "model_ft.fc = nn.Sequential(\n",
    "#     nn.Dropout1d(0.4),\n",
    "    nn.Linear(num_ftrs, 2048),\n",
    "    nn.Linear(2048, 2)\n",
    ")\n",
    "\n",
    "# nn.Linear(num_ftrs, 2) # sets the fully connected layer to be just a Linear layer\n",
    "\n",
    "model_ft = model_ft.to(device)\n",
    "\n",
    "criterion = nn.CrossEntropyLoss() # loss function for classification\n",
    "\n",
    "# Observe that all parameters are being optimized\n",
    "optimizer_ft = optim.SGD(model_ft.parameters(), lr=0.001, momentum=0.9) # gradient descent with momentum\n",
    "\n",
    "# Decay LR by a factor of 0.1 every 7 epochs\n",
    "exp_lr_scheduler = lr_scheduler.StepLR(optimizer_ft, step_size=7, gamma=0.1) "
   ]
  },
  {
   "cell_type": "code",
   "execution_count": 2,
   "id": "20c10be4",
   "metadata": {},
   "outputs": [
    {
     "ename": "NameError",
     "evalue": "name 'train_model' is not defined",
     "output_type": "error",
     "traceback": [
      "\u001b[1;31m---------------------------------------------------------------------------\u001b[0m",
      "\u001b[1;31mNameError\u001b[0m                                 Traceback (most recent call last)",
      "Input \u001b[1;32mIn [2]\u001b[0m, in \u001b[0;36m<cell line: 1>\u001b[1;34m()\u001b[0m\n\u001b[1;32m----> 1\u001b[0m model_ft \u001b[38;5;241m=\u001b[39m \u001b[43mtrain_model\u001b[49m(model_ft, criterion, optimizer_ft, exp_lr_scheduler,\n\u001b[0;32m      2\u001b[0m                        num_epochs\u001b[38;5;241m=\u001b[39m\u001b[38;5;241m25\u001b[39m)\n",
      "\u001b[1;31mNameError\u001b[0m: name 'train_model' is not defined"
     ]
    }
   ],
   "source": [
    "model_ft = train_model(model_ft, criterion, optimizer_ft, exp_lr_scheduler,\n",
    "                       num_epochs=25)"
   ]
  },
  {
   "cell_type": "code",
   "execution_count": 3,
   "id": "35c6cd2f",
   "metadata": {},
   "outputs": [
    {
     "ename": "NameError",
     "evalue": "name 'torchvision' is not defined",
     "output_type": "error",
     "traceback": [
      "\u001b[1;31m---------------------------------------------------------------------------\u001b[0m",
      "\u001b[1;31mNameError\u001b[0m                                 Traceback (most recent call last)",
      "Input \u001b[1;32mIn [3]\u001b[0m, in \u001b[0;36m<cell line: 1>\u001b[1;34m()\u001b[0m\n\u001b[1;32m----> 1\u001b[0m weights \u001b[38;5;241m=\u001b[39m \u001b[43mtorchvision\u001b[49m\u001b[38;5;241m.\u001b[39mmodels\u001b[38;5;241m.\u001b[39mEfficientNet_B0_Weights\u001b[38;5;241m.\u001b[39mDEFAULT \u001b[38;5;66;03m# .DEFAULT = best available weights from pretraining on ImageNet\u001b[39;00m\n\u001b[0;32m      2\u001b[0m weights\n",
      "\u001b[1;31mNameError\u001b[0m: name 'torchvision' is not defined"
     ]
    }
   ],
   "source": [
    "weights = torchvision.models.EfficientNet_B0_Weights.DEFAULT # .DEFAULT = best available weights from pretraining on ImageNet\n",
    "weights"
   ]
  },
  {
   "cell_type": "code",
   "execution_count": 19,
   "id": "1341a793",
   "metadata": {},
   "outputs": [
    {
     "data": {
      "text/plain": [
       "ImageClassification(\n",
       "    crop_size=[224]\n",
       "    resize_size=[256]\n",
       "    mean=[0.485, 0.456, 0.406]\n",
       "    std=[0.229, 0.224, 0.225]\n",
       "    interpolation=InterpolationMode.BICUBIC\n",
       ")"
      ]
     },
     "execution_count": 19,
     "metadata": {},
     "output_type": "execute_result"
    }
   ],
   "source": [
    "auto_transforms = weights.transforms()\n",
    "auto_transforms"
   ]
  },
  {
   "cell_type": "code",
   "execution_count": 20,
   "id": "b029e605",
   "metadata": {},
   "outputs": [],
   "source": [
    "eff_weights = torchvision.models.EfficientNet_B0_Weights.DEFAULT # .DEFAULT = best available weights \n",
    "eff_net = torchvision.models.efficientnet_b0(weights=eff_weights).to(device)"
   ]
  },
  {
   "cell_type": "code",
   "execution_count": 21,
   "id": "9245e637",
   "metadata": {},
   "outputs": [
    {
     "data": {
      "text/plain": [
       "============================================================================================================================================\n",
       "Layer (type (var_name))                                      Input Shape          Output Shape         Param #              Trainable\n",
       "============================================================================================================================================\n",
       "EfficientNet (EfficientNet)                                  [32, 3, 224, 224]    [32, 1000]           --                   True\n",
       "├─Sequential (features)                                      [32, 3, 224, 224]    [32, 1280, 7, 7]     --                   True\n",
       "│    └─Conv2dNormActivation (0)                              [32, 3, 224, 224]    [32, 32, 112, 112]   --                   True\n",
       "│    │    └─Conv2d (0)                                       [32, 3, 224, 224]    [32, 32, 112, 112]   864                  True\n",
       "│    │    └─BatchNorm2d (1)                                  [32, 32, 112, 112]   [32, 32, 112, 112]   64                   True\n",
       "│    │    └─SiLU (2)                                         [32, 32, 112, 112]   [32, 32, 112, 112]   --                   --\n",
       "│    └─Sequential (1)                                        [32, 32, 112, 112]   [32, 16, 112, 112]   --                   True\n",
       "│    │    └─MBConv (0)                                       [32, 32, 112, 112]   [32, 16, 112, 112]   1,448                True\n",
       "│    └─Sequential (2)                                        [32, 16, 112, 112]   [32, 24, 56, 56]     --                   True\n",
       "│    │    └─MBConv (0)                                       [32, 16, 112, 112]   [32, 24, 56, 56]     6,004                True\n",
       "│    │    └─MBConv (1)                                       [32, 24, 56, 56]     [32, 24, 56, 56]     10,710               True\n",
       "│    └─Sequential (3)                                        [32, 24, 56, 56]     [32, 40, 28, 28]     --                   True\n",
       "│    │    └─MBConv (0)                                       [32, 24, 56, 56]     [32, 40, 28, 28]     15,350               True\n",
       "│    │    └─MBConv (1)                                       [32, 40, 28, 28]     [32, 40, 28, 28]     31,290               True\n",
       "│    └─Sequential (4)                                        [32, 40, 28, 28]     [32, 80, 14, 14]     --                   True\n",
       "│    │    └─MBConv (0)                                       [32, 40, 28, 28]     [32, 80, 14, 14]     37,130               True\n",
       "│    │    └─MBConv (1)                                       [32, 80, 14, 14]     [32, 80, 14, 14]     102,900              True\n",
       "│    │    └─MBConv (2)                                       [32, 80, 14, 14]     [32, 80, 14, 14]     102,900              True\n",
       "│    └─Sequential (5)                                        [32, 80, 14, 14]     [32, 112, 14, 14]    --                   True\n",
       "│    │    └─MBConv (0)                                       [32, 80, 14, 14]     [32, 112, 14, 14]    126,004              True\n",
       "│    │    └─MBConv (1)                                       [32, 112, 14, 14]    [32, 112, 14, 14]    208,572              True\n",
       "│    │    └─MBConv (2)                                       [32, 112, 14, 14]    [32, 112, 14, 14]    208,572              True\n",
       "│    └─Sequential (6)                                        [32, 112, 14, 14]    [32, 192, 7, 7]      --                   True\n",
       "│    │    └─MBConv (0)                                       [32, 112, 14, 14]    [32, 192, 7, 7]      262,492              True\n",
       "│    │    └─MBConv (1)                                       [32, 192, 7, 7]      [32, 192, 7, 7]      587,952              True\n",
       "│    │    └─MBConv (2)                                       [32, 192, 7, 7]      [32, 192, 7, 7]      587,952              True\n",
       "│    │    └─MBConv (3)                                       [32, 192, 7, 7]      [32, 192, 7, 7]      587,952              True\n",
       "│    └─Sequential (7)                                        [32, 192, 7, 7]      [32, 320, 7, 7]      --                   True\n",
       "│    │    └─MBConv (0)                                       [32, 192, 7, 7]      [32, 320, 7, 7]      717,232              True\n",
       "│    └─Conv2dNormActivation (8)                              [32, 320, 7, 7]      [32, 1280, 7, 7]     --                   True\n",
       "│    │    └─Conv2d (0)                                       [32, 320, 7, 7]      [32, 1280, 7, 7]     409,600              True\n",
       "│    │    └─BatchNorm2d (1)                                  [32, 1280, 7, 7]     [32, 1280, 7, 7]     2,560                True\n",
       "│    │    └─SiLU (2)                                         [32, 1280, 7, 7]     [32, 1280, 7, 7]     --                   --\n",
       "├─AdaptiveAvgPool2d (avgpool)                                [32, 1280, 7, 7]     [32, 1280, 1, 1]     --                   --\n",
       "├─Sequential (classifier)                                    [32, 1280]           [32, 1000]           --                   True\n",
       "│    └─Dropout (0)                                           [32, 1280]           [32, 1280]           --                   --\n",
       "│    └─Linear (1)                                            [32, 1280]           [32, 1000]           1,281,000            True\n",
       "============================================================================================================================================\n",
       "Total params: 5,288,548\n",
       "Trainable params: 5,288,548\n",
       "Non-trainable params: 0\n",
       "Total mult-adds (G): 12.35\n",
       "============================================================================================================================================\n",
       "Input size (MB): 19.27\n",
       "Forward/backward pass size (MB): 3452.35\n",
       "Params size (MB): 21.15\n",
       "Estimated Total Size (MB): 3492.77\n",
       "============================================================================================================================================"
      ]
     },
     "execution_count": 21,
     "metadata": {},
     "output_type": "execute_result"
    }
   ],
   "source": [
    "summary(model=eff_net, \n",
    "        input_size=(32, 3, 224, 224), # make sure this is \"input_size\", not \"input_shape\"\n",
    "        # col_names=[\"input_size\"], # uncomment for smaller output\n",
    "        col_names=[\"input_size\", \"output_size\", \"num_params\", \"trainable\"],\n",
    "        col_width=20,\n",
    "        row_settings=[\"var_names\"]\n",
    ")"
   ]
  },
  {
   "cell_type": "code",
   "execution_count": 22,
   "id": "5ce068aa",
   "metadata": {},
   "outputs": [
    {
     "name": "stdout",
     "output_type": "stream",
     "text": [
      "Looking in links: https://download.pytorch.org/whl/cu{CUDA_VERSION}/torch_stable.html\n",
      "Requirement already satisfied: torch in c:\\users\\brand\\anaconda3\\lib\\site-packages (2.1.2)\n",
      "Requirement already satisfied: torchvision in c:\\users\\brand\\anaconda3\\lib\\site-packages (0.15.2+cu117)\n",
      "Requirement already satisfied: torchaudio in c:\\users\\brand\\anaconda3\\lib\\site-packages (2.0.2+cu117)\n",
      "Requirement already satisfied: fsspec in c:\\users\\brand\\anaconda3\\lib\\site-packages (from torch) (2023.10.0)\n",
      "Requirement already satisfied: sympy in c:\\users\\brand\\anaconda3\\lib\\site-packages (from torch) (1.10.1)\n",
      "Requirement already satisfied: filelock in c:\\users\\brand\\anaconda3\\lib\\site-packages (from torch) (3.6.0)\n",
      "Requirement already satisfied: networkx in c:\\users\\brand\\anaconda3\\lib\\site-packages (from torch) (2.7.1)\n",
      "Requirement already satisfied: jinja2 in c:\\users\\brand\\anaconda3\\lib\\site-packages (from torch) (2.11.3)\n",
      "Requirement already satisfied: typing-extensions in c:\\users\\brand\\anaconda3\\lib\\site-packages (from torch) (4.8.0)\n",
      "Requirement already satisfied: requests in c:\\users\\brand\\anaconda3\\lib\\site-packages (from torchvision) (2.27.1)\n",
      "Requirement already satisfied: numpy in c:\\users\\brand\\anaconda3\\lib\\site-packages (from torchvision) (1.22.4)\n",
      "Collecting torch\n",
      "  Downloading torch-2.0.1-cp39-cp39-win_amd64.whl (172.4 MB)\n",
      "Requirement already satisfied: pillow!=8.3.*,>=5.3.0 in c:\\users\\brand\\anaconda3\\lib\\site-packages (from torchvision) (9.5.0)\n",
      "Requirement already satisfied: MarkupSafe>=0.23 in c:\\users\\brand\\anaconda3\\lib\\site-packages (from jinja2->torch) (2.0.1)\n",
      "Requirement already satisfied: idna<4,>=2.5 in c:\\users\\brand\\anaconda3\\lib\\site-packages (from requests->torchvision) (3.3)\n",
      "Requirement already satisfied: charset-normalizer~=2.0.0 in c:\\users\\brand\\anaconda3\\lib\\site-packages (from requests->torchvision) (2.0.4)\n",
      "Requirement already satisfied: urllib3<1.27,>=1.21.1 in c:\\users\\brand\\anaconda3\\lib\\site-packages (from requests->torchvision) (1.26.18)\n",
      "Requirement already satisfied: certifi>=2017.4.17 in c:\\users\\brand\\anaconda3\\lib\\site-packages (from requests->torchvision) (2023.7.22)\n",
      "Requirement already satisfied: mpmath>=0.19 in c:\\users\\brand\\anaconda3\\lib\\site-packages (from sympy->torch) (1.2.1)\n",
      "Installing collected packages: torch\n",
      "  Attempting uninstall: torch\n",
      "    Found existing installation: torch 2.1.2\n",
      "    Uninstalling torch-2.1.2:\n",
      "      Successfully uninstalled torch-2.1.2\n"
     ]
    },
    {
     "name": "stderr",
     "output_type": "stream",
     "text": [
      "WARNING: Ignoring invalid distribution -orch (c:\\users\\brand\\anaconda3\\lib\\site-packages)\n",
      "WARNING: Ignoring invalid distribution -orch (c:\\users\\brand\\anaconda3\\lib\\site-packages)\n",
      "WARNING: Ignoring invalid distribution -orch (c:\\users\\brand\\anaconda3\\lib\\site-packages)\n",
      "    WARNING: Ignoring invalid distribution -orch (c:\\users\\brand\\anaconda3\\lib\\site-packages)\n",
      "ERROR: Could not install packages due to an OSError: [WinError 5] Access is denied: 'C:\\\\Users\\\\Brand\\\\anaconda3\\\\Lib\\\\site-packages\\\\~-rch\\\\lib\\\\asmjit.dll'\n",
      "Consider using the `--user` option or check the permissions.\n",
      "\n",
      "WARNING: Ignoring invalid distribution -orch (c:\\users\\brand\\anaconda3\\lib\\site-packages)\n",
      "WARNING: Ignoring invalid distribution -orch (c:\\users\\brand\\anaconda3\\lib\\site-packages)\n",
      "WARNING: Ignoring invalid distribution -orch (c:\\users\\brand\\anaconda3\\lib\\site-packages)\n"
     ]
    }
   ],
   "source": [
    "!pip install torch torchvision torchaudio -f https://download.pytorch.org/whl/cu{CUDA_VERSION}/torch_stable.html"
   ]
  },
  {
   "cell_type": "code",
   "execution_count": 41,
   "id": "75bcff98",
   "metadata": {},
   "outputs": [
    {
     "data": {
      "text/plain": [
       "False"
      ]
     },
     "execution_count": 41,
     "metadata": {},
     "output_type": "execute_result"
    }
   ],
   "source": [
    "# If you are running this within a python venv and have the error \"Module not found: numpy\", \n",
    "# ensure that your kernel is set to $VENV_NAME and run $python -m ipykernel install --user --name=$VENV_NAME \n",
    "# You will need to pip install numpy, tqdm, vit_pytorch, and ipywidgets\n",
    "import math\n",
    "import numpy as np\n",
    "import torch\n",
    "import torch.nn as nn\n",
    "import torch.nn.functional as F\n",
    "import torch.cuda as cuda\n",
    "from torch.utils.data import DataLoader\n",
    "import os\n",
    "import time\n",
    "import torchvision\n",
    "from torchvision import datasets, transforms\n",
    "import torch.optim as optim\n",
    "from torch.optim.lr_scheduler import StepLR\n",
    "from tqdm.notebook import tqdm\n",
    "import matplotlib.pyplot as plt\n",
    "from torchinfo import summary\n",
    "#import timm # Unofficial pytorch image models, for comparison\n",
    "from PIL import Image\n",
    "%matplotlib inline\n",
    "\n",
    "from torchvision import datasets, models, transforms\n",
    "device = torch.device(\"cuda:0\" if torch.cuda.is_available() else \"cpu\") # Use Nvidia GPU if available, for faster results\n",
    "# Uncomment below to verify cuda is working\n",
    "torch.cuda.is_available()\n",
    "# print(torch.version.cuda)"
   ]
  },
  {
   "cell_type": "code",
   "execution_count": 29,
   "id": "c6fa01e8",
   "metadata": {},
   "outputs": [],
   "source": [
    "# Define the transformations that will be applied to the images during the loading process\n",
    "transform = transforms.Compose([\n",
    "    transforms.Resize((128,128)),\n",
    "    transforms.ToTensor(),\n",
    "    #transforms.Normalize(mean=[0.485, 0.456, 0.406], std=[0.229, 0.224, 0.225]) # Mean and Std. Dev values used here are commonly used with the ImageNet dataset\n",
    "])"
   ]
  },
  {
   "cell_type": "code",
   "execution_count": 30,
   "id": "b4bc5671",
   "metadata": {},
   "outputs": [],
   "source": [
    "# Training Settings\n",
    "batch_size = 32 # This should usually be kept to a size that is a power of two\n",
    "epochs = 15 # Need to monitor validation loss during training to avoid overfitting https://datascience.stackexchange.com/questions/46523/is-a-large-number-of-epochs-good-or-bad-idea-in-cnn\n",
    "lr = 3e-5 # Need to implement learning rate decay \n",
    "gamma = 0.7\n",
    "seed = 2147483647\n",
    "# We'll use a PyTorch Generator to make things repeatable (deterministic)\n",
    "g = torch.Generator().manual_seed(seed)"
   ]
  },
  {
   "cell_type": "code",
   "execution_count": 31,
   "id": "6c7c78cc",
   "metadata": {},
   "outputs": [],
   "source": [
    "# Define path to dataset\n",
    "dataset_path = \"%s/../data/images/\" % (os.getcwd())\n",
    "\n",
    "# Load Datasets with labels\n",
    "dset = datasets.ImageFolder(dataset_path, transform=transform) # Automatially assigns labels to examples based on the directory name\n",
    "\n",
    "# Generate 2 splits: Train (80%), Test (20%)\n",
    "dset_size = len(dset)\n",
    "train_size = int(0.8 * dset_size)\n",
    "test_size = dset_size - train_size\n",
    "\n",
    "train, test = torch.utils.data.random_split(dset, [train_size, test_size], generator=g)\n",
    "\n",
    "# Create Data Loaders fro splits\n",
    "train_dl = DataLoader(train, batch_size=batch_size, shuffle=True)\n",
    "test_dl = DataLoader(test, batch_size=batch_size, shuffle=True)"
   ]
  },
  {
   "cell_type": "code",
   "execution_count": 32,
   "id": "e59791b4",
   "metadata": {},
   "outputs": [],
   "source": [
    "classes = len(dset.classes)"
   ]
  },
  {
   "cell_type": "code",
   "execution_count": 34,
   "id": "013cd966",
   "metadata": {},
   "outputs": [],
   "source": [
    "# Training Statistics Init\n",
    "loss_dict = {}\n",
    "accuracy_dict = {}\n",
    "time_to_train_dict = {}\n",
    "test_accuracy_dict = {}\n",
    "\n",
    "def train_model(model, name):\n",
    "    # Loss Function\n",
    "    criterion = nn.CrossEntropyLoss()\n",
    "    # Optimizer\n",
    "    optimizer = optim.Adam(model.parameters(), lr=lr)\n",
    "    # Scheduler\n",
    "    scheduler = StepLR(optimizer, step_size=1, gamma=gamma)\n",
    "    print(\"\")\n",
    "    print(\"++++++++++++++++++++++++++++++++++++++++\")\n",
    "    print(f\"Training Run [Model: {name}]\")\n",
    "    print(\"++++++++++++++++++++++++++++++++++++++++\")\n",
    "\n",
    "    # Training Statistics Init\n",
    "    loss_list = []\n",
    "    accuracy_list = []\n",
    "    \n",
    "    # Training Time\n",
    "#     start_event = cuda.Event(enable_timing=True)\n",
    "#     end_event = cuda.Event(enable_timing=True)\n",
    "    # Begin Clock\n",
    "#     start_event.record()\n",
    "    \n",
    "    # Training Loop\n",
    "    for epoch in range(epochs):\n",
    "        epoch_loss = 0\n",
    "        epoch_accuracy = 0\n",
    "        \n",
    "        for data, label in tqdm(train_dl):\n",
    "            data = data.to(device) # Ensure we're processing data on GPU\n",
    "            label = label.to(device)\n",
    "        \n",
    "            output = model(data)\n",
    "            loss = criterion(output, label)\n",
    "        \n",
    "            optimizer.zero_grad() # Zero out the gradient -- we'll experience weird bugs if we forget to do so\n",
    "            loss.backward()\n",
    "            optimizer.step()\n",
    "        \n",
    "            acc = (output.argmax(dim=1) == label).float().mean()\n",
    "            epoch_accuracy += acc / len(train_dl)\n",
    "            epoch_loss += loss / len(train_dl)\n",
    "        \n",
    "        print(f\"Epoch: {epoch+1} - loss: {epoch_loss:.4f} - acc: {epoch_accuracy:.4f}\")\n",
    "        loss_list.append(epoch_loss.cpu().detach().numpy().item())\n",
    "        accuracy_list.append(epoch_accuracy.cpu().detach().numpy().item())\n",
    "       \n",
    "    # End Clock\n",
    "#     end_event.record()\n",
    "    cuda.synchronize() # Wait for GPU operations to complete\n",
    "#     time = start_event.elapsed_time(end_event) / 1000 # Convert to seconds\n",
    "    num_examples = batch_size * len(train_dl)\n",
    "    time_per_example = time / (num_examples * epochs)\n",
    "    print(f\"It took {time} seconds to train {name} on {num_examples} examples over {epochs} epochs.\")\n",
    "    print(f\"That averages to {time_per_example} seconds per example\")\n",
    "\n",
    "    # Test run\n",
    "    print(\"++++++++++++++++++++++++++++++++++++++++\")\n",
    "    print(f\"Test Run [Model: {name}] \")\n",
    "    print(\"++++++++++++++++++++++++++++++++++++++++\")\n",
    "    accuracies = []\n",
    "    batch_acc = 0\n",
    "    for data, label in tqdm(test_dl):\n",
    "        data = data.to(device)\n",
    "        label = label.to(device)\n",
    "        output = model(data)\n",
    "        acc = (output.argmax(dim=1) == label).float().mean().cpu().detach().numpy()\n",
    "        batch_acc += acc / len(test_dl)\n",
    "        accuracies.append(batch_acc)\n",
    "        \n",
    "    print(f\"Test Accuracy: {accuracies[-1]} - Number of test cases: {len(test_dl) * batch_size}\")\n",
    "\n",
    "    # Update training stats\n",
    "    loss_dict.update({name: loss_list})\n",
    "    accuracy_dict.update({name: accuracy_list})\n",
    "    time_to_train_dict.update({name: time_per_example})\n",
    "    test_accuracy_dict.update({name: accuracies[-1]})"
   ]
  },
  {
   "cell_type": "code",
   "execution_count": 35,
   "id": "612c46dc",
   "metadata": {},
   "outputs": [],
   "source": [
    "# ResNet - 18\n",
    "res_net_18 = models.resnet18(weights='IMAGENET1K_V1')\n",
    "num_ftrs = res_net_18.fc.in_features\n",
    "# Here the size of each output sample is set to 2.\n",
    "# Alternatively, it can be generalized to ``nn.Linear(num_ftrs, len(class_names))``."
   ]
  },
  {
   "cell_type": "code",
   "execution_count": 36,
   "id": "43a689df",
   "metadata": {},
   "outputs": [],
   "source": [
    "for param in res_net_18.parameters():\n",
    "    param.requires_grad = False"
   ]
  },
  {
   "cell_type": "code",
   "execution_count": 37,
   "id": "0c47f72f",
   "metadata": {},
   "outputs": [],
   "source": [
    "for param in res_net_18.fc.parameters():\n",
    "    param.requires_grad = True"
   ]
  },
  {
   "cell_type": "code",
   "execution_count": 38,
   "id": "37c30c0c",
   "metadata": {},
   "outputs": [],
   "source": [
    "res_net_18.fc = nn.Sequential(\n",
    "    nn.Linear(num_ftrs, classes)\n",
    ")"
   ]
  },
  {
   "cell_type": "code",
   "execution_count": 39,
   "id": "647ff8ef",
   "metadata": {},
   "outputs": [
    {
     "name": "stdout",
     "output_type": "stream",
     "text": [
      "\n",
      "++++++++++++++++++++++++++++++++++++++++\n",
      "Training Run [Model: ResNet 18]\n",
      "++++++++++++++++++++++++++++++++++++++++\n"
     ]
    },
    {
     "data": {
      "application/vnd.jupyter.widget-view+json": {
       "model_id": "32d85b7018fa46a08188ed962dabcfe3",
       "version_major": 2,
       "version_minor": 0
      },
      "text/plain": [
       "  0%|          | 0/294 [00:00<?, ?it/s]"
      ]
     },
     "metadata": {},
     "output_type": "display_data"
    },
    {
     "name": "stdout",
     "output_type": "stream",
     "text": [
      "Epoch: 1 - loss: 2.1980 - acc: 0.2918\n"
     ]
    },
    {
     "data": {
      "application/vnd.jupyter.widget-view+json": {
       "model_id": "1f5483bf09f64a69981a19b82e7f6334",
       "version_major": 2,
       "version_minor": 0
      },
      "text/plain": [
       "  0%|          | 0/294 [00:00<?, ?it/s]"
      ]
     },
     "metadata": {},
     "output_type": "display_data"
    },
    {
     "name": "stdout",
     "output_type": "stream",
     "text": [
      "Epoch: 2 - loss: 1.8690 - acc: 0.3720\n"
     ]
    },
    {
     "data": {
      "application/vnd.jupyter.widget-view+json": {
       "model_id": "e74bec91fbd74bec88995966dc9a942d",
       "version_major": 2,
       "version_minor": 0
      },
      "text/plain": [
       "  0%|          | 0/294 [00:00<?, ?it/s]"
      ]
     },
     "metadata": {},
     "output_type": "display_data"
    },
    {
     "name": "stdout",
     "output_type": "stream",
     "text": [
      "Epoch: 3 - loss: 1.7939 - acc: 0.3924\n"
     ]
    },
    {
     "data": {
      "application/vnd.jupyter.widget-view+json": {
       "model_id": "9903d304e7554a2185333edf7cec37d8",
       "version_major": 2,
       "version_minor": 0
      },
      "text/plain": [
       "  0%|          | 0/294 [00:00<?, ?it/s]"
      ]
     },
     "metadata": {},
     "output_type": "display_data"
    },
    {
     "name": "stdout",
     "output_type": "stream",
     "text": [
      "Epoch: 4 - loss: 1.7382 - acc: 0.4075\n"
     ]
    },
    {
     "data": {
      "application/vnd.jupyter.widget-view+json": {
       "model_id": "bebda0a9985b48e4a3c01d0d8daee376",
       "version_major": 2,
       "version_minor": 0
      },
      "text/plain": [
       "  0%|          | 0/294 [00:00<?, ?it/s]"
      ]
     },
     "metadata": {},
     "output_type": "display_data"
    },
    {
     "name": "stdout",
     "output_type": "stream",
     "text": [
      "Epoch: 5 - loss: 1.6973 - acc: 0.4178\n"
     ]
    },
    {
     "data": {
      "application/vnd.jupyter.widget-view+json": {
       "model_id": "ba666082b56141aebe84453521318a3e",
       "version_major": 2,
       "version_minor": 0
      },
      "text/plain": [
       "  0%|          | 0/294 [00:00<?, ?it/s]"
      ]
     },
     "metadata": {},
     "output_type": "display_data"
    },
    {
     "name": "stdout",
     "output_type": "stream",
     "text": [
      "Epoch: 6 - loss: 1.6635 - acc: 0.4250\n"
     ]
    },
    {
     "data": {
      "application/vnd.jupyter.widget-view+json": {
       "model_id": "7a12b81abca24358a0a74b1ba1abee17",
       "version_major": 2,
       "version_minor": 0
      },
      "text/plain": [
       "  0%|          | 0/294 [00:00<?, ?it/s]"
      ]
     },
     "metadata": {},
     "output_type": "display_data"
    },
    {
     "name": "stdout",
     "output_type": "stream",
     "text": [
      "Epoch: 7 - loss: 1.6369 - acc: 0.4339\n"
     ]
    },
    {
     "data": {
      "application/vnd.jupyter.widget-view+json": {
       "model_id": "1ff58dfed6064591a4a08afb39199d7c",
       "version_major": 2,
       "version_minor": 0
      },
      "text/plain": [
       "  0%|          | 0/294 [00:00<?, ?it/s]"
      ]
     },
     "metadata": {},
     "output_type": "display_data"
    },
    {
     "name": "stdout",
     "output_type": "stream",
     "text": [
      "Epoch: 8 - loss: 1.6052 - acc: 0.4451\n"
     ]
    },
    {
     "data": {
      "application/vnd.jupyter.widget-view+json": {
       "model_id": "e297e5a1d5cb44cb8b8aaba26e24b836",
       "version_major": 2,
       "version_minor": 0
      },
      "text/plain": [
       "  0%|          | 0/294 [00:00<?, ?it/s]"
      ]
     },
     "metadata": {},
     "output_type": "display_data"
    },
    {
     "name": "stdout",
     "output_type": "stream",
     "text": [
      "Epoch: 9 - loss: 1.5841 - acc: 0.4476\n"
     ]
    },
    {
     "data": {
      "application/vnd.jupyter.widget-view+json": {
       "model_id": "babad0946b76475293ea65193495d448",
       "version_major": 2,
       "version_minor": 0
      },
      "text/plain": [
       "  0%|          | 0/294 [00:00<?, ?it/s]"
      ]
     },
     "metadata": {},
     "output_type": "display_data"
    },
    {
     "name": "stdout",
     "output_type": "stream",
     "text": [
      "Epoch: 10 - loss: 1.5671 - acc: 0.4544\n"
     ]
    },
    {
     "data": {
      "application/vnd.jupyter.widget-view+json": {
       "model_id": "13ba7c51b9b046d29b6da27a754605f5",
       "version_major": 2,
       "version_minor": 0
      },
      "text/plain": [
       "  0%|          | 0/294 [00:00<?, ?it/s]"
      ]
     },
     "metadata": {},
     "output_type": "display_data"
    },
    {
     "name": "stdout",
     "output_type": "stream",
     "text": [
      "Epoch: 11 - loss: 1.5490 - acc: 0.4540\n"
     ]
    },
    {
     "data": {
      "application/vnd.jupyter.widget-view+json": {
       "model_id": "790f99f45fc949bbb9a729dd92f605ea",
       "version_major": 2,
       "version_minor": 0
      },
      "text/plain": [
       "  0%|          | 0/294 [00:00<?, ?it/s]"
      ]
     },
     "metadata": {},
     "output_type": "display_data"
    },
    {
     "name": "stdout",
     "output_type": "stream",
     "text": [
      "Epoch: 12 - loss: 1.5343 - acc: 0.4581\n"
     ]
    },
    {
     "data": {
      "application/vnd.jupyter.widget-view+json": {
       "model_id": "5539ff083b16453d9449f9aadafcdf1a",
       "version_major": 2,
       "version_minor": 0
      },
      "text/plain": [
       "  0%|          | 0/294 [00:00<?, ?it/s]"
      ]
     },
     "metadata": {},
     "output_type": "display_data"
    },
    {
     "name": "stdout",
     "output_type": "stream",
     "text": [
      "Epoch: 13 - loss: 1.5209 - acc: 0.4621\n"
     ]
    },
    {
     "data": {
      "application/vnd.jupyter.widget-view+json": {
       "model_id": "bfbcef9451774a30a661186320683a1e",
       "version_major": 2,
       "version_minor": 0
      },
      "text/plain": [
       "  0%|          | 0/294 [00:00<?, ?it/s]"
      ]
     },
     "metadata": {},
     "output_type": "display_data"
    },
    {
     "name": "stdout",
     "output_type": "stream",
     "text": [
      "Epoch: 14 - loss: 1.5091 - acc: 0.4671\n"
     ]
    },
    {
     "data": {
      "application/vnd.jupyter.widget-view+json": {
       "model_id": "c9dce9b33b7f4342b5251260ff024a02",
       "version_major": 2,
       "version_minor": 0
      },
      "text/plain": [
       "  0%|          | 0/294 [00:00<?, ?it/s]"
      ]
     },
     "metadata": {},
     "output_type": "display_data"
    },
    {
     "name": "stdout",
     "output_type": "stream",
     "text": [
      "Epoch: 15 - loss: 1.4973 - acc: 0.4678\n"
     ]
    },
    {
     "ename": "NameError",
     "evalue": "name 'end_event' is not defined",
     "output_type": "error",
     "traceback": [
      "\u001b[1;31m---------------------------------------------------------------------------\u001b[0m",
      "\u001b[1;31mNameError\u001b[0m                                 Traceback (most recent call last)",
      "Input \u001b[1;32mIn [39]\u001b[0m, in \u001b[0;36m<cell line: 1>\u001b[1;34m()\u001b[0m\n\u001b[1;32m----> 1\u001b[0m \u001b[43mtrain_model\u001b[49m\u001b[43m(\u001b[49m\u001b[43mres_net_18\u001b[49m\u001b[43m,\u001b[49m\u001b[43m \u001b[49m\u001b[38;5;124;43m\"\u001b[39;49m\u001b[38;5;124;43mResNet 18\u001b[39;49m\u001b[38;5;124;43m\"\u001b[39;49m\u001b[43m)\u001b[49m\n",
      "Input \u001b[1;32mIn [34]\u001b[0m, in \u001b[0;36mtrain_model\u001b[1;34m(model, name)\u001b[0m\n\u001b[0;32m     51\u001b[0m         accuracy_list\u001b[38;5;241m.\u001b[39mappend(epoch_accuracy\u001b[38;5;241m.\u001b[39mcpu()\u001b[38;5;241m.\u001b[39mdetach()\u001b[38;5;241m.\u001b[39mnumpy()\u001b[38;5;241m.\u001b[39mitem())\n\u001b[0;32m     53\u001b[0m     \u001b[38;5;66;03m# End Clock\u001b[39;00m\n\u001b[1;32m---> 54\u001b[0m     \u001b[43mend_event\u001b[49m\u001b[38;5;241m.\u001b[39mrecord()\n\u001b[0;32m     55\u001b[0m     cuda\u001b[38;5;241m.\u001b[39msynchronize() \u001b[38;5;66;03m# Wait for GPU operations to complete\u001b[39;00m\n\u001b[0;32m     56\u001b[0m \u001b[38;5;66;03m#     time = start_event.elapsed_time(end_event) / 1000 # Convert to seconds\u001b[39;00m\n",
      "\u001b[1;31mNameError\u001b[0m: name 'end_event' is not defined"
     ]
    }
   ],
   "source": [
    "train_model(res_net_18, \"ResNet 18\")"
   ]
  },
  {
   "cell_type": "code",
   "execution_count": 43,
   "id": "f7ba58aa",
   "metadata": {},
   "outputs": [
    {
     "data": {
      "text/plain": [
       "========================================================================================================================\n",
       "Layer (type (var_name))                  Input Shape          Output Shape         Param #              Trainable\n",
       "========================================================================================================================\n",
       "ResNet (ResNet)                          [32, 3, 128, 128]    [32, 23]             --                   Partial\n",
       "├─Conv2d (conv1)                         [32, 3, 128, 128]    [32, 64, 64, 64]     (9,408)              False\n",
       "├─BatchNorm2d (bn1)                      [32, 64, 64, 64]     [32, 64, 64, 64]     (128)                False\n",
       "├─ReLU (relu)                            [32, 64, 64, 64]     [32, 64, 64, 64]     --                   --\n",
       "├─MaxPool2d (maxpool)                    [32, 64, 64, 64]     [32, 64, 32, 32]     --                   --\n",
       "├─Sequential (layer1)                    [32, 64, 32, 32]     [32, 64, 32, 32]     --                   False\n",
       "│    └─BasicBlock (0)                    [32, 64, 32, 32]     [32, 64, 32, 32]     --                   False\n",
       "│    │    └─Conv2d (conv1)               [32, 64, 32, 32]     [32, 64, 32, 32]     (36,864)             False\n",
       "│    │    └─BatchNorm2d (bn1)            [32, 64, 32, 32]     [32, 64, 32, 32]     (128)                False\n",
       "│    │    └─ReLU (relu)                  [32, 64, 32, 32]     [32, 64, 32, 32]     --                   --\n",
       "│    │    └─Conv2d (conv2)               [32, 64, 32, 32]     [32, 64, 32, 32]     (36,864)             False\n",
       "│    │    └─BatchNorm2d (bn2)            [32, 64, 32, 32]     [32, 64, 32, 32]     (128)                False\n",
       "│    │    └─ReLU (relu)                  [32, 64, 32, 32]     [32, 64, 32, 32]     --                   --\n",
       "│    └─BasicBlock (1)                    [32, 64, 32, 32]     [32, 64, 32, 32]     --                   False\n",
       "│    │    └─Conv2d (conv1)               [32, 64, 32, 32]     [32, 64, 32, 32]     (36,864)             False\n",
       "│    │    └─BatchNorm2d (bn1)            [32, 64, 32, 32]     [32, 64, 32, 32]     (128)                False\n",
       "│    │    └─ReLU (relu)                  [32, 64, 32, 32]     [32, 64, 32, 32]     --                   --\n",
       "│    │    └─Conv2d (conv2)               [32, 64, 32, 32]     [32, 64, 32, 32]     (36,864)             False\n",
       "│    │    └─BatchNorm2d (bn2)            [32, 64, 32, 32]     [32, 64, 32, 32]     (128)                False\n",
       "│    │    └─ReLU (relu)                  [32, 64, 32, 32]     [32, 64, 32, 32]     --                   --\n",
       "├─Sequential (layer2)                    [32, 64, 32, 32]     [32, 128, 16, 16]    --                   False\n",
       "│    └─BasicBlock (0)                    [32, 64, 32, 32]     [32, 128, 16, 16]    --                   False\n",
       "│    │    └─Conv2d (conv1)               [32, 64, 32, 32]     [32, 128, 16, 16]    (73,728)             False\n",
       "│    │    └─BatchNorm2d (bn1)            [32, 128, 16, 16]    [32, 128, 16, 16]    (256)                False\n",
       "│    │    └─ReLU (relu)                  [32, 128, 16, 16]    [32, 128, 16, 16]    --                   --\n",
       "│    │    └─Conv2d (conv2)               [32, 128, 16, 16]    [32, 128, 16, 16]    (147,456)            False\n",
       "│    │    └─BatchNorm2d (bn2)            [32, 128, 16, 16]    [32, 128, 16, 16]    (256)                False\n",
       "│    │    └─Sequential (downsample)      [32, 64, 32, 32]     [32, 128, 16, 16]    (8,448)              False\n",
       "│    │    └─ReLU (relu)                  [32, 128, 16, 16]    [32, 128, 16, 16]    --                   --\n",
       "│    └─BasicBlock (1)                    [32, 128, 16, 16]    [32, 128, 16, 16]    --                   False\n",
       "│    │    └─Conv2d (conv1)               [32, 128, 16, 16]    [32, 128, 16, 16]    (147,456)            False\n",
       "│    │    └─BatchNorm2d (bn1)            [32, 128, 16, 16]    [32, 128, 16, 16]    (256)                False\n",
       "│    │    └─ReLU (relu)                  [32, 128, 16, 16]    [32, 128, 16, 16]    --                   --\n",
       "│    │    └─Conv2d (conv2)               [32, 128, 16, 16]    [32, 128, 16, 16]    (147,456)            False\n",
       "│    │    └─BatchNorm2d (bn2)            [32, 128, 16, 16]    [32, 128, 16, 16]    (256)                False\n",
       "│    │    └─ReLU (relu)                  [32, 128, 16, 16]    [32, 128, 16, 16]    --                   --\n",
       "├─Sequential (layer3)                    [32, 128, 16, 16]    [32, 256, 8, 8]      --                   False\n",
       "│    └─BasicBlock (0)                    [32, 128, 16, 16]    [32, 256, 8, 8]      --                   False\n",
       "│    │    └─Conv2d (conv1)               [32, 128, 16, 16]    [32, 256, 8, 8]      (294,912)            False\n",
       "│    │    └─BatchNorm2d (bn1)            [32, 256, 8, 8]      [32, 256, 8, 8]      (512)                False\n",
       "│    │    └─ReLU (relu)                  [32, 256, 8, 8]      [32, 256, 8, 8]      --                   --\n",
       "│    │    └─Conv2d (conv2)               [32, 256, 8, 8]      [32, 256, 8, 8]      (589,824)            False\n",
       "│    │    └─BatchNorm2d (bn2)            [32, 256, 8, 8]      [32, 256, 8, 8]      (512)                False\n",
       "│    │    └─Sequential (downsample)      [32, 128, 16, 16]    [32, 256, 8, 8]      (33,280)             False\n",
       "│    │    └─ReLU (relu)                  [32, 256, 8, 8]      [32, 256, 8, 8]      --                   --\n",
       "│    └─BasicBlock (1)                    [32, 256, 8, 8]      [32, 256, 8, 8]      --                   False\n",
       "│    │    └─Conv2d (conv1)               [32, 256, 8, 8]      [32, 256, 8, 8]      (589,824)            False\n",
       "│    │    └─BatchNorm2d (bn1)            [32, 256, 8, 8]      [32, 256, 8, 8]      (512)                False\n",
       "│    │    └─ReLU (relu)                  [32, 256, 8, 8]      [32, 256, 8, 8]      --                   --\n",
       "│    │    └─Conv2d (conv2)               [32, 256, 8, 8]      [32, 256, 8, 8]      (589,824)            False\n",
       "│    │    └─BatchNorm2d (bn2)            [32, 256, 8, 8]      [32, 256, 8, 8]      (512)                False\n",
       "│    │    └─ReLU (relu)                  [32, 256, 8, 8]      [32, 256, 8, 8]      --                   --\n",
       "├─Sequential (layer4)                    [32, 256, 8, 8]      [32, 512, 4, 4]      --                   False\n",
       "│    └─BasicBlock (0)                    [32, 256, 8, 8]      [32, 512, 4, 4]      --                   False\n",
       "│    │    └─Conv2d (conv1)               [32, 256, 8, 8]      [32, 512, 4, 4]      (1,179,648)          False\n",
       "│    │    └─BatchNorm2d (bn1)            [32, 512, 4, 4]      [32, 512, 4, 4]      (1,024)              False\n",
       "│    │    └─ReLU (relu)                  [32, 512, 4, 4]      [32, 512, 4, 4]      --                   --\n",
       "│    │    └─Conv2d (conv2)               [32, 512, 4, 4]      [32, 512, 4, 4]      (2,359,296)          False\n",
       "│    │    └─BatchNorm2d (bn2)            [32, 512, 4, 4]      [32, 512, 4, 4]      (1,024)              False\n",
       "│    │    └─Sequential (downsample)      [32, 256, 8, 8]      [32, 512, 4, 4]      (132,096)            False\n",
       "│    │    └─ReLU (relu)                  [32, 512, 4, 4]      [32, 512, 4, 4]      --                   --\n",
       "│    └─BasicBlock (1)                    [32, 512, 4, 4]      [32, 512, 4, 4]      --                   False\n",
       "│    │    └─Conv2d (conv1)               [32, 512, 4, 4]      [32, 512, 4, 4]      (2,359,296)          False\n",
       "│    │    └─BatchNorm2d (bn1)            [32, 512, 4, 4]      [32, 512, 4, 4]      (1,024)              False\n",
       "│    │    └─ReLU (relu)                  [32, 512, 4, 4]      [32, 512, 4, 4]      --                   --\n",
       "│    │    └─Conv2d (conv2)               [32, 512, 4, 4]      [32, 512, 4, 4]      (2,359,296)          False\n",
       "│    │    └─BatchNorm2d (bn2)            [32, 512, 4, 4]      [32, 512, 4, 4]      (1,024)              False\n",
       "│    │    └─ReLU (relu)                  [32, 512, 4, 4]      [32, 512, 4, 4]      --                   --\n",
       "├─AdaptiveAvgPool2d (avgpool)            [32, 512, 4, 4]      [32, 512, 1, 1]      --                   --\n",
       "├─Sequential (fc)                        [32, 512]            [32, 23]             --                   True\n",
       "│    └─Linear (0)                        [32, 512]            [32, 23]             11,799               True\n",
       "========================================================================================================================\n",
       "Total params: 11,188,311\n",
       "Trainable params: 11,799\n",
       "Non-trainable params: 11,176,512\n",
       "Total mult-adds (G): 18.95\n",
       "========================================================================================================================\n",
       "Input size (MB): 6.29\n",
       "Forward/backward pass size (MB): 415.24\n",
       "Params size (MB): 44.75\n",
       "Estimated Total Size (MB): 466.29\n",
       "========================================================================================================================"
      ]
     },
     "execution_count": 43,
     "metadata": {},
     "output_type": "execute_result"
    }
   ],
   "source": [
    "summary(model=res_net_18, \n",
    "        input_size=(32, 3, 128, 128), # make sure this is \"input_size\", not \"input_shape\"\n",
    "        # col_names=[\"input_size\"], # uncomment for smaller output\n",
    "        col_names=[\"input_size\", \"output_size\", \"num_params\", \"trainable\"],\n",
    "        col_width=20,\n",
    "        row_settings=[\"var_names\"]\n",
    ")"
   ]
  },
  {
   "cell_type": "code",
   "execution_count": 53,
   "id": "0d30a651",
   "metadata": {},
   "outputs": [
    {
     "data": {
      "text/plain": [
       "2048"
      ]
     },
     "execution_count": 53,
     "metadata": {},
     "output_type": "execute_result"
    }
   ],
   "source": [
    "# Resnet - 50\n",
    "res_weights = torchvision.models.ResNet50_Weights.DEFAULT\n",
    "res_net_50 = torchvision.models.resnet50(weights=res_weights).to(device)\n",
    "num_ftrs = res_net_50.fc.in_features\n",
    "# Here the size of each output sample is set to 2.\n",
    "# Alternatively, it can be generalized to ``nn.Linear(num_ftrs, len(class_names))``.\n",
    "\n",
    "num_ftrs"
   ]
  },
  {
   "cell_type": "code",
   "execution_count": 54,
   "id": "f66a9640",
   "metadata": {},
   "outputs": [
    {
     "name": "stdout",
     "output_type": "stream",
     "text": [
      "\n",
      "++++++++++++++++++++++++++++++++++++++++\n",
      "Training Run [Model: ResNet 50]\n",
      "++++++++++++++++++++++++++++++++++++++++\n"
     ]
    },
    {
     "data": {
      "application/vnd.jupyter.widget-view+json": {
       "model_id": "b6919cc0a38340c28efcc3ae69f98c99",
       "version_major": 2,
       "version_minor": 0
      },
      "text/plain": [
       "  0%|          | 0/294 [00:00<?, ?it/s]"
      ]
     },
     "metadata": {},
     "output_type": "display_data"
    },
    {
     "name": "stdout",
     "output_type": "stream",
     "text": [
      "Epoch: 1 - loss: 2.4336 - acc: 0.3475\n"
     ]
    },
    {
     "data": {
      "application/vnd.jupyter.widget-view+json": {
       "model_id": "b55ea1e9c3774bc0bf1edbffda5f9af4",
       "version_major": 2,
       "version_minor": 0
      },
      "text/plain": [
       "  0%|          | 0/294 [00:00<?, ?it/s]"
      ]
     },
     "metadata": {},
     "output_type": "display_data"
    },
    {
     "name": "stdout",
     "output_type": "stream",
     "text": [
      "Epoch: 2 - loss: 1.8860 - acc: 0.4120\n"
     ]
    },
    {
     "data": {
      "application/vnd.jupyter.widget-view+json": {
       "model_id": "dbd65867906142c29fd54251902282e3",
       "version_major": 2,
       "version_minor": 0
      },
      "text/plain": [
       "  0%|          | 0/294 [00:00<?, ?it/s]"
      ]
     },
     "metadata": {},
     "output_type": "display_data"
    },
    {
     "name": "stdout",
     "output_type": "stream",
     "text": [
      "Epoch: 3 - loss: 1.7349 - acc: 0.4315\n"
     ]
    },
    {
     "data": {
      "application/vnd.jupyter.widget-view+json": {
       "model_id": "318c276d61f640cdbacaf8d5afb85f87",
       "version_major": 2,
       "version_minor": 0
      },
      "text/plain": [
       "  0%|          | 0/294 [00:00<?, ?it/s]"
      ]
     },
     "metadata": {},
     "output_type": "display_data"
    },
    {
     "name": "stdout",
     "output_type": "stream",
     "text": [
      "Epoch: 4 - loss: 1.6664 - acc: 0.4420\n"
     ]
    },
    {
     "data": {
      "application/vnd.jupyter.widget-view+json": {
       "model_id": "338fa779329a4eec8384158f30ff596e",
       "version_major": 2,
       "version_minor": 0
      },
      "text/plain": [
       "  0%|          | 0/294 [00:00<?, ?it/s]"
      ]
     },
     "metadata": {},
     "output_type": "display_data"
    },
    {
     "name": "stdout",
     "output_type": "stream",
     "text": [
      "Epoch: 5 - loss: 1.6148 - acc: 0.4527\n"
     ]
    },
    {
     "data": {
      "application/vnd.jupyter.widget-view+json": {
       "model_id": "9e9c4aebef0d49f09a5de04187fdea8a",
       "version_major": 2,
       "version_minor": 0
      },
      "text/plain": [
       "  0%|          | 0/294 [00:00<?, ?it/s]"
      ]
     },
     "metadata": {},
     "output_type": "display_data"
    },
    {
     "name": "stdout",
     "output_type": "stream",
     "text": [
      "Epoch: 6 - loss: 1.5809 - acc: 0.4604\n"
     ]
    },
    {
     "data": {
      "application/vnd.jupyter.widget-view+json": {
       "model_id": "9d191edaac394e8697071eeec984ae52",
       "version_major": 2,
       "version_minor": 0
      },
      "text/plain": [
       "  0%|          | 0/294 [00:00<?, ?it/s]"
      ]
     },
     "metadata": {},
     "output_type": "display_data"
    },
    {
     "name": "stdout",
     "output_type": "stream",
     "text": [
      "Epoch: 7 - loss: 1.5521 - acc: 0.4675\n"
     ]
    },
    {
     "data": {
      "application/vnd.jupyter.widget-view+json": {
       "model_id": "8cb9d3a9e4da4f5a809d476de53c6c1b",
       "version_major": 2,
       "version_minor": 0
      },
      "text/plain": [
       "  0%|          | 0/294 [00:00<?, ?it/s]"
      ]
     },
     "metadata": {},
     "output_type": "display_data"
    },
    {
     "name": "stdout",
     "output_type": "stream",
     "text": [
      "Epoch: 8 - loss: 1.5288 - acc: 0.4722\n"
     ]
    },
    {
     "data": {
      "application/vnd.jupyter.widget-view+json": {
       "model_id": "44aa7fb5d9994a079d4feb58690b718c",
       "version_major": 2,
       "version_minor": 0
      },
      "text/plain": [
       "  0%|          | 0/294 [00:00<?, ?it/s]"
      ]
     },
     "metadata": {},
     "output_type": "display_data"
    },
    {
     "name": "stdout",
     "output_type": "stream",
     "text": [
      "Epoch: 9 - loss: 1.5063 - acc: 0.4803\n"
     ]
    },
    {
     "data": {
      "application/vnd.jupyter.widget-view+json": {
       "model_id": "1d37d6e6df4044e5b64bf48f7815b573",
       "version_major": 2,
       "version_minor": 0
      },
      "text/plain": [
       "  0%|          | 0/294 [00:00<?, ?it/s]"
      ]
     },
     "metadata": {},
     "output_type": "display_data"
    },
    {
     "name": "stdout",
     "output_type": "stream",
     "text": [
      "Epoch: 10 - loss: 1.4967 - acc: 0.4849\n"
     ]
    },
    {
     "data": {
      "application/vnd.jupyter.widget-view+json": {
       "model_id": "67bf0812c69c47bbad50eb69d5668177",
       "version_major": 2,
       "version_minor": 0
      },
      "text/plain": [
       "  0%|          | 0/294 [00:00<?, ?it/s]"
      ]
     },
     "metadata": {},
     "output_type": "display_data"
    },
    {
     "name": "stdout",
     "output_type": "stream",
     "text": [
      "Epoch: 11 - loss: 1.4733 - acc: 0.4942\n"
     ]
    },
    {
     "data": {
      "application/vnd.jupyter.widget-view+json": {
       "model_id": "7463ba3a93044ecf92797dc477ad77db",
       "version_major": 2,
       "version_minor": 0
      },
      "text/plain": [
       "  0%|          | 0/294 [00:00<?, ?it/s]"
      ]
     },
     "metadata": {},
     "output_type": "display_data"
    },
    {
     "name": "stdout",
     "output_type": "stream",
     "text": [
      "Epoch: 12 - loss: 1.4634 - acc: 0.4936\n"
     ]
    },
    {
     "data": {
      "application/vnd.jupyter.widget-view+json": {
       "model_id": "2400cdfdf7c948d196b71fc2bd6bdb9b",
       "version_major": 2,
       "version_minor": 0
      },
      "text/plain": [
       "  0%|          | 0/294 [00:00<?, ?it/s]"
      ]
     },
     "metadata": {},
     "output_type": "display_data"
    },
    {
     "name": "stdout",
     "output_type": "stream",
     "text": [
      "Epoch: 13 - loss: 1.4470 - acc: 0.5062\n"
     ]
    },
    {
     "data": {
      "application/vnd.jupyter.widget-view+json": {
       "model_id": "b57e7c999c904ae7807a077e50a62d1e",
       "version_major": 2,
       "version_minor": 0
      },
      "text/plain": [
       "  0%|          | 0/294 [00:00<?, ?it/s]"
      ]
     },
     "metadata": {},
     "output_type": "display_data"
    },
    {
     "name": "stdout",
     "output_type": "stream",
     "text": [
      "Epoch: 14 - loss: 1.4347 - acc: 0.5087\n"
     ]
    },
    {
     "data": {
      "application/vnd.jupyter.widget-view+json": {
       "model_id": "e2074f18cfdb40538704196f275899b4",
       "version_major": 2,
       "version_minor": 0
      },
      "text/plain": [
       "  0%|          | 0/294 [00:00<?, ?it/s]"
      ]
     },
     "metadata": {},
     "output_type": "display_data"
    },
    {
     "name": "stdout",
     "output_type": "stream",
     "text": [
      "Epoch: 15 - loss: 1.4210 - acc: 0.5077\n"
     ]
    },
    {
     "ename": "NameError",
     "evalue": "name 'end_event' is not defined",
     "output_type": "error",
     "traceback": [
      "\u001b[1;31m---------------------------------------------------------------------------\u001b[0m",
      "\u001b[1;31mNameError\u001b[0m                                 Traceback (most recent call last)",
      "Input \u001b[1;32mIn [54]\u001b[0m, in \u001b[0;36m<cell line: 5>\u001b[1;34m()\u001b[0m\n\u001b[0;32m      1\u001b[0m res_net50\u001b[38;5;241m.\u001b[39mfc \u001b[38;5;241m=\u001b[39m nn\u001b[38;5;241m.\u001b[39mSequential(\n\u001b[0;32m      2\u001b[0m     nn\u001b[38;5;241m.\u001b[39mLinear(num_ftrs, classes)\n\u001b[0;32m      3\u001b[0m )\n\u001b[1;32m----> 5\u001b[0m \u001b[43mtrain_model\u001b[49m\u001b[43m(\u001b[49m\u001b[43mres_net50\u001b[49m\u001b[43m,\u001b[49m\u001b[43m \u001b[49m\u001b[38;5;124;43m\"\u001b[39;49m\u001b[38;5;124;43mResNet 50\u001b[39;49m\u001b[38;5;124;43m\"\u001b[39;49m\u001b[43m)\u001b[49m\n",
      "Input \u001b[1;32mIn [34]\u001b[0m, in \u001b[0;36mtrain_model\u001b[1;34m(model, name)\u001b[0m\n\u001b[0;32m     51\u001b[0m         accuracy_list\u001b[38;5;241m.\u001b[39mappend(epoch_accuracy\u001b[38;5;241m.\u001b[39mcpu()\u001b[38;5;241m.\u001b[39mdetach()\u001b[38;5;241m.\u001b[39mnumpy()\u001b[38;5;241m.\u001b[39mitem())\n\u001b[0;32m     53\u001b[0m     \u001b[38;5;66;03m# End Clock\u001b[39;00m\n\u001b[1;32m---> 54\u001b[0m     \u001b[43mend_event\u001b[49m\u001b[38;5;241m.\u001b[39mrecord()\n\u001b[0;32m     55\u001b[0m     cuda\u001b[38;5;241m.\u001b[39msynchronize() \u001b[38;5;66;03m# Wait for GPU operations to complete\u001b[39;00m\n\u001b[0;32m     56\u001b[0m \u001b[38;5;66;03m#     time = start_event.elapsed_time(end_event) / 1000 # Convert to seconds\u001b[39;00m\n",
      "\u001b[1;31mNameError\u001b[0m: name 'end_event' is not defined"
     ]
    }
   ],
   "source": [
    "for param in res_net50.parameters():\n",
    "    param.requires_grad = False\n",
    "\n",
    "for param in res_net50.fc.parameters():\n",
    "    param.requires_grad = True\n",
    "\n",
    "res_net50.fc = nn.Sequential(\n",
    "    nn.Linear(num_ftrs, classes)\n",
    ")\n",
    "\n",
    "train_model(res_net50, \"ResNet 50\")"
   ]
  },
  {
   "cell_type": "code",
   "execution_count": 52,
   "id": "feedb061",
   "metadata": {},
   "outputs": [
    {
     "data": {
      "text/plain": [
       "========================================================================================================================\n",
       "Layer (type (var_name))                  Input Shape          Output Shape         Param #              Trainable\n",
       "========================================================================================================================\n",
       "ResNet (ResNet)                          [32, 3, 128, 128]    [32, 1000]           --                   False\n",
       "├─Conv2d (conv1)                         [32, 3, 128, 128]    [32, 64, 64, 64]     (9,408)              False\n",
       "├─BatchNorm2d (bn1)                      [32, 64, 64, 64]     [32, 64, 64, 64]     (128)                False\n",
       "├─ReLU (relu)                            [32, 64, 64, 64]     [32, 64, 64, 64]     --                   --\n",
       "├─MaxPool2d (maxpool)                    [32, 64, 64, 64]     [32, 64, 32, 32]     --                   --\n",
       "├─Sequential (layer1)                    [32, 64, 32, 32]     [32, 256, 32, 32]    --                   False\n",
       "│    └─Bottleneck (0)                    [32, 64, 32, 32]     [32, 256, 32, 32]    --                   False\n",
       "│    │    └─Conv2d (conv1)               [32, 64, 32, 32]     [32, 64, 32, 32]     (4,096)              False\n",
       "│    │    └─BatchNorm2d (bn1)            [32, 64, 32, 32]     [32, 64, 32, 32]     (128)                False\n",
       "│    │    └─ReLU (relu)                  [32, 64, 32, 32]     [32, 64, 32, 32]     --                   --\n",
       "│    │    └─Conv2d (conv2)               [32, 64, 32, 32]     [32, 64, 32, 32]     (36,864)             False\n",
       "│    │    └─BatchNorm2d (bn2)            [32, 64, 32, 32]     [32, 64, 32, 32]     (128)                False\n",
       "│    │    └─ReLU (relu)                  [32, 64, 32, 32]     [32, 64, 32, 32]     --                   --\n",
       "│    │    └─Conv2d (conv3)               [32, 64, 32, 32]     [32, 256, 32, 32]    (16,384)             False\n",
       "│    │    └─BatchNorm2d (bn3)            [32, 256, 32, 32]    [32, 256, 32, 32]    (512)                False\n",
       "│    │    └─Sequential (downsample)      [32, 64, 32, 32]     [32, 256, 32, 32]    (16,896)             False\n",
       "│    │    └─ReLU (relu)                  [32, 256, 32, 32]    [32, 256, 32, 32]    --                   --\n",
       "│    └─Bottleneck (1)                    [32, 256, 32, 32]    [32, 256, 32, 32]    --                   False\n",
       "│    │    └─Conv2d (conv1)               [32, 256, 32, 32]    [32, 64, 32, 32]     (16,384)             False\n",
       "│    │    └─BatchNorm2d (bn1)            [32, 64, 32, 32]     [32, 64, 32, 32]     (128)                False\n",
       "│    │    └─ReLU (relu)                  [32, 64, 32, 32]     [32, 64, 32, 32]     --                   --\n",
       "│    │    └─Conv2d (conv2)               [32, 64, 32, 32]     [32, 64, 32, 32]     (36,864)             False\n",
       "│    │    └─BatchNorm2d (bn2)            [32, 64, 32, 32]     [32, 64, 32, 32]     (128)                False\n",
       "│    │    └─ReLU (relu)                  [32, 64, 32, 32]     [32, 64, 32, 32]     --                   --\n",
       "│    │    └─Conv2d (conv3)               [32, 64, 32, 32]     [32, 256, 32, 32]    (16,384)             False\n",
       "│    │    └─BatchNorm2d (bn3)            [32, 256, 32, 32]    [32, 256, 32, 32]    (512)                False\n",
       "│    │    └─ReLU (relu)                  [32, 256, 32, 32]    [32, 256, 32, 32]    --                   --\n",
       "│    └─Bottleneck (2)                    [32, 256, 32, 32]    [32, 256, 32, 32]    --                   False\n",
       "│    │    └─Conv2d (conv1)               [32, 256, 32, 32]    [32, 64, 32, 32]     (16,384)             False\n",
       "│    │    └─BatchNorm2d (bn1)            [32, 64, 32, 32]     [32, 64, 32, 32]     (128)                False\n",
       "│    │    └─ReLU (relu)                  [32, 64, 32, 32]     [32, 64, 32, 32]     --                   --\n",
       "│    │    └─Conv2d (conv2)               [32, 64, 32, 32]     [32, 64, 32, 32]     (36,864)             False\n",
       "│    │    └─BatchNorm2d (bn2)            [32, 64, 32, 32]     [32, 64, 32, 32]     (128)                False\n",
       "│    │    └─ReLU (relu)                  [32, 64, 32, 32]     [32, 64, 32, 32]     --                   --\n",
       "│    │    └─Conv2d (conv3)               [32, 64, 32, 32]     [32, 256, 32, 32]    (16,384)             False\n",
       "│    │    └─BatchNorm2d (bn3)            [32, 256, 32, 32]    [32, 256, 32, 32]    (512)                False\n",
       "│    │    └─ReLU (relu)                  [32, 256, 32, 32]    [32, 256, 32, 32]    --                   --\n",
       "├─Sequential (layer2)                    [32, 256, 32, 32]    [32, 512, 16, 16]    --                   False\n",
       "│    └─Bottleneck (0)                    [32, 256, 32, 32]    [32, 512, 16, 16]    --                   False\n",
       "│    │    └─Conv2d (conv1)               [32, 256, 32, 32]    [32, 128, 32, 32]    (32,768)             False\n",
       "│    │    └─BatchNorm2d (bn1)            [32, 128, 32, 32]    [32, 128, 32, 32]    (256)                False\n",
       "│    │    └─ReLU (relu)                  [32, 128, 32, 32]    [32, 128, 32, 32]    --                   --\n",
       "│    │    └─Conv2d (conv2)               [32, 128, 32, 32]    [32, 128, 16, 16]    (147,456)            False\n",
       "│    │    └─BatchNorm2d (bn2)            [32, 128, 16, 16]    [32, 128, 16, 16]    (256)                False\n",
       "│    │    └─ReLU (relu)                  [32, 128, 16, 16]    [32, 128, 16, 16]    --                   --\n",
       "│    │    └─Conv2d (conv3)               [32, 128, 16, 16]    [32, 512, 16, 16]    (65,536)             False\n",
       "│    │    └─BatchNorm2d (bn3)            [32, 512, 16, 16]    [32, 512, 16, 16]    (1,024)              False\n",
       "│    │    └─Sequential (downsample)      [32, 256, 32, 32]    [32, 512, 16, 16]    (132,096)            False\n",
       "│    │    └─ReLU (relu)                  [32, 512, 16, 16]    [32, 512, 16, 16]    --                   --\n",
       "│    └─Bottleneck (1)                    [32, 512, 16, 16]    [32, 512, 16, 16]    --                   False\n",
       "│    │    └─Conv2d (conv1)               [32, 512, 16, 16]    [32, 128, 16, 16]    (65,536)             False\n",
       "│    │    └─BatchNorm2d (bn1)            [32, 128, 16, 16]    [32, 128, 16, 16]    (256)                False\n",
       "│    │    └─ReLU (relu)                  [32, 128, 16, 16]    [32, 128, 16, 16]    --                   --\n",
       "│    │    └─Conv2d (conv2)               [32, 128, 16, 16]    [32, 128, 16, 16]    (147,456)            False\n",
       "│    │    └─BatchNorm2d (bn2)            [32, 128, 16, 16]    [32, 128, 16, 16]    (256)                False\n",
       "│    │    └─ReLU (relu)                  [32, 128, 16, 16]    [32, 128, 16, 16]    --                   --\n",
       "│    │    └─Conv2d (conv3)               [32, 128, 16, 16]    [32, 512, 16, 16]    (65,536)             False\n",
       "│    │    └─BatchNorm2d (bn3)            [32, 512, 16, 16]    [32, 512, 16, 16]    (1,024)              False\n",
       "│    │    └─ReLU (relu)                  [32, 512, 16, 16]    [32, 512, 16, 16]    --                   --\n",
       "│    └─Bottleneck (2)                    [32, 512, 16, 16]    [32, 512, 16, 16]    --                   False\n",
       "│    │    └─Conv2d (conv1)               [32, 512, 16, 16]    [32, 128, 16, 16]    (65,536)             False\n",
       "│    │    └─BatchNorm2d (bn1)            [32, 128, 16, 16]    [32, 128, 16, 16]    (256)                False\n",
       "│    │    └─ReLU (relu)                  [32, 128, 16, 16]    [32, 128, 16, 16]    --                   --\n",
       "│    │    └─Conv2d (conv2)               [32, 128, 16, 16]    [32, 128, 16, 16]    (147,456)            False\n",
       "│    │    └─BatchNorm2d (bn2)            [32, 128, 16, 16]    [32, 128, 16, 16]    (256)                False\n",
       "│    │    └─ReLU (relu)                  [32, 128, 16, 16]    [32, 128, 16, 16]    --                   --\n",
       "│    │    └─Conv2d (conv3)               [32, 128, 16, 16]    [32, 512, 16, 16]    (65,536)             False\n",
       "│    │    └─BatchNorm2d (bn3)            [32, 512, 16, 16]    [32, 512, 16, 16]    (1,024)              False\n",
       "│    │    └─ReLU (relu)                  [32, 512, 16, 16]    [32, 512, 16, 16]    --                   --\n",
       "│    └─Bottleneck (3)                    [32, 512, 16, 16]    [32, 512, 16, 16]    --                   False\n",
       "│    │    └─Conv2d (conv1)               [32, 512, 16, 16]    [32, 128, 16, 16]    (65,536)             False\n",
       "│    │    └─BatchNorm2d (bn1)            [32, 128, 16, 16]    [32, 128, 16, 16]    (256)                False\n",
       "│    │    └─ReLU (relu)                  [32, 128, 16, 16]    [32, 128, 16, 16]    --                   --\n",
       "│    │    └─Conv2d (conv2)               [32, 128, 16, 16]    [32, 128, 16, 16]    (147,456)            False\n",
       "│    │    └─BatchNorm2d (bn2)            [32, 128, 16, 16]    [32, 128, 16, 16]    (256)                False\n",
       "│    │    └─ReLU (relu)                  [32, 128, 16, 16]    [32, 128, 16, 16]    --                   --\n",
       "│    │    └─Conv2d (conv3)               [32, 128, 16, 16]    [32, 512, 16, 16]    (65,536)             False\n",
       "│    │    └─BatchNorm2d (bn3)            [32, 512, 16, 16]    [32, 512, 16, 16]    (1,024)              False\n",
       "│    │    └─ReLU (relu)                  [32, 512, 16, 16]    [32, 512, 16, 16]    --                   --\n",
       "├─Sequential (layer3)                    [32, 512, 16, 16]    [32, 1024, 8, 8]     --                   False\n",
       "│    └─Bottleneck (0)                    [32, 512, 16, 16]    [32, 1024, 8, 8]     --                   False\n",
       "│    │    └─Conv2d (conv1)               [32, 512, 16, 16]    [32, 256, 16, 16]    (131,072)            False\n",
       "│    │    └─BatchNorm2d (bn1)            [32, 256, 16, 16]    [32, 256, 16, 16]    (512)                False\n",
       "│    │    └─ReLU (relu)                  [32, 256, 16, 16]    [32, 256, 16, 16]    --                   --\n",
       "│    │    └─Conv2d (conv2)               [32, 256, 16, 16]    [32, 256, 8, 8]      (589,824)            False\n",
       "│    │    └─BatchNorm2d (bn2)            [32, 256, 8, 8]      [32, 256, 8, 8]      (512)                False\n",
       "│    │    └─ReLU (relu)                  [32, 256, 8, 8]      [32, 256, 8, 8]      --                   --\n",
       "│    │    └─Conv2d (conv3)               [32, 256, 8, 8]      [32, 1024, 8, 8]     (262,144)            False\n",
       "│    │    └─BatchNorm2d (bn3)            [32, 1024, 8, 8]     [32, 1024, 8, 8]     (2,048)              False\n",
       "│    │    └─Sequential (downsample)      [32, 512, 16, 16]    [32, 1024, 8, 8]     (526,336)            False\n",
       "│    │    └─ReLU (relu)                  [32, 1024, 8, 8]     [32, 1024, 8, 8]     --                   --\n",
       "│    └─Bottleneck (1)                    [32, 1024, 8, 8]     [32, 1024, 8, 8]     --                   False\n",
       "│    │    └─Conv2d (conv1)               [32, 1024, 8, 8]     [32, 256, 8, 8]      (262,144)            False\n",
       "│    │    └─BatchNorm2d (bn1)            [32, 256, 8, 8]      [32, 256, 8, 8]      (512)                False\n",
       "│    │    └─ReLU (relu)                  [32, 256, 8, 8]      [32, 256, 8, 8]      --                   --\n",
       "│    │    └─Conv2d (conv2)               [32, 256, 8, 8]      [32, 256, 8, 8]      (589,824)            False\n",
       "│    │    └─BatchNorm2d (bn2)            [32, 256, 8, 8]      [32, 256, 8, 8]      (512)                False\n",
       "│    │    └─ReLU (relu)                  [32, 256, 8, 8]      [32, 256, 8, 8]      --                   --\n",
       "│    │    └─Conv2d (conv3)               [32, 256, 8, 8]      [32, 1024, 8, 8]     (262,144)            False\n",
       "│    │    └─BatchNorm2d (bn3)            [32, 1024, 8, 8]     [32, 1024, 8, 8]     (2,048)              False\n",
       "│    │    └─ReLU (relu)                  [32, 1024, 8, 8]     [32, 1024, 8, 8]     --                   --\n",
       "│    └─Bottleneck (2)                    [32, 1024, 8, 8]     [32, 1024, 8, 8]     --                   False\n",
       "│    │    └─Conv2d (conv1)               [32, 1024, 8, 8]     [32, 256, 8, 8]      (262,144)            False\n",
       "│    │    └─BatchNorm2d (bn1)            [32, 256, 8, 8]      [32, 256, 8, 8]      (512)                False\n",
       "│    │    └─ReLU (relu)                  [32, 256, 8, 8]      [32, 256, 8, 8]      --                   --\n",
       "│    │    └─Conv2d (conv2)               [32, 256, 8, 8]      [32, 256, 8, 8]      (589,824)            False\n",
       "│    │    └─BatchNorm2d (bn2)            [32, 256, 8, 8]      [32, 256, 8, 8]      (512)                False\n",
       "│    │    └─ReLU (relu)                  [32, 256, 8, 8]      [32, 256, 8, 8]      --                   --\n",
       "│    │    └─Conv2d (conv3)               [32, 256, 8, 8]      [32, 1024, 8, 8]     (262,144)            False\n",
       "│    │    └─BatchNorm2d (bn3)            [32, 1024, 8, 8]     [32, 1024, 8, 8]     (2,048)              False\n",
       "│    │    └─ReLU (relu)                  [32, 1024, 8, 8]     [32, 1024, 8, 8]     --                   --\n",
       "│    └─Bottleneck (3)                    [32, 1024, 8, 8]     [32, 1024, 8, 8]     --                   False\n",
       "│    │    └─Conv2d (conv1)               [32, 1024, 8, 8]     [32, 256, 8, 8]      (262,144)            False\n",
       "│    │    └─BatchNorm2d (bn1)            [32, 256, 8, 8]      [32, 256, 8, 8]      (512)                False\n",
       "│    │    └─ReLU (relu)                  [32, 256, 8, 8]      [32, 256, 8, 8]      --                   --\n",
       "│    │    └─Conv2d (conv2)               [32, 256, 8, 8]      [32, 256, 8, 8]      (589,824)            False\n",
       "│    │    └─BatchNorm2d (bn2)            [32, 256, 8, 8]      [32, 256, 8, 8]      (512)                False\n",
       "│    │    └─ReLU (relu)                  [32, 256, 8, 8]      [32, 256, 8, 8]      --                   --\n",
       "│    │    └─Conv2d (conv3)               [32, 256, 8, 8]      [32, 1024, 8, 8]     (262,144)            False\n",
       "│    │    └─BatchNorm2d (bn3)            [32, 1024, 8, 8]     [32, 1024, 8, 8]     (2,048)              False\n",
       "│    │    └─ReLU (relu)                  [32, 1024, 8, 8]     [32, 1024, 8, 8]     --                   --\n",
       "│    └─Bottleneck (4)                    [32, 1024, 8, 8]     [32, 1024, 8, 8]     --                   False\n",
       "│    │    └─Conv2d (conv1)               [32, 1024, 8, 8]     [32, 256, 8, 8]      (262,144)            False\n",
       "│    │    └─BatchNorm2d (bn1)            [32, 256, 8, 8]      [32, 256, 8, 8]      (512)                False\n",
       "│    │    └─ReLU (relu)                  [32, 256, 8, 8]      [32, 256, 8, 8]      --                   --\n",
       "│    │    └─Conv2d (conv2)               [32, 256, 8, 8]      [32, 256, 8, 8]      (589,824)            False\n",
       "│    │    └─BatchNorm2d (bn2)            [32, 256, 8, 8]      [32, 256, 8, 8]      (512)                False\n",
       "│    │    └─ReLU (relu)                  [32, 256, 8, 8]      [32, 256, 8, 8]      --                   --\n",
       "│    │    └─Conv2d (conv3)               [32, 256, 8, 8]      [32, 1024, 8, 8]     (262,144)            False\n",
       "│    │    └─BatchNorm2d (bn3)            [32, 1024, 8, 8]     [32, 1024, 8, 8]     (2,048)              False\n",
       "│    │    └─ReLU (relu)                  [32, 1024, 8, 8]     [32, 1024, 8, 8]     --                   --\n",
       "│    └─Bottleneck (5)                    [32, 1024, 8, 8]     [32, 1024, 8, 8]     --                   False\n",
       "│    │    └─Conv2d (conv1)               [32, 1024, 8, 8]     [32, 256, 8, 8]      (262,144)            False\n",
       "│    │    └─BatchNorm2d (bn1)            [32, 256, 8, 8]      [32, 256, 8, 8]      (512)                False\n",
       "│    │    └─ReLU (relu)                  [32, 256, 8, 8]      [32, 256, 8, 8]      --                   --\n",
       "│    │    └─Conv2d (conv2)               [32, 256, 8, 8]      [32, 256, 8, 8]      (589,824)            False\n",
       "│    │    └─BatchNorm2d (bn2)            [32, 256, 8, 8]      [32, 256, 8, 8]      (512)                False\n",
       "│    │    └─ReLU (relu)                  [32, 256, 8, 8]      [32, 256, 8, 8]      --                   --\n",
       "│    │    └─Conv2d (conv3)               [32, 256, 8, 8]      [32, 1024, 8, 8]     (262,144)            False\n",
       "│    │    └─BatchNorm2d (bn3)            [32, 1024, 8, 8]     [32, 1024, 8, 8]     (2,048)              False\n",
       "│    │    └─ReLU (relu)                  [32, 1024, 8, 8]     [32, 1024, 8, 8]     --                   --\n",
       "├─Sequential (layer4)                    [32, 1024, 8, 8]     [32, 2048, 4, 4]     --                   False\n",
       "│    └─Bottleneck (0)                    [32, 1024, 8, 8]     [32, 2048, 4, 4]     --                   False\n",
       "│    │    └─Conv2d (conv1)               [32, 1024, 8, 8]     [32, 512, 8, 8]      (524,288)            False\n",
       "│    │    └─BatchNorm2d (bn1)            [32, 512, 8, 8]      [32, 512, 8, 8]      (1,024)              False\n",
       "│    │    └─ReLU (relu)                  [32, 512, 8, 8]      [32, 512, 8, 8]      --                   --\n",
       "│    │    └─Conv2d (conv2)               [32, 512, 8, 8]      [32, 512, 4, 4]      (2,359,296)          False\n",
       "│    │    └─BatchNorm2d (bn2)            [32, 512, 4, 4]      [32, 512, 4, 4]      (1,024)              False\n",
       "│    │    └─ReLU (relu)                  [32, 512, 4, 4]      [32, 512, 4, 4]      --                   --\n",
       "│    │    └─Conv2d (conv3)               [32, 512, 4, 4]      [32, 2048, 4, 4]     (1,048,576)          False\n",
       "│    │    └─BatchNorm2d (bn3)            [32, 2048, 4, 4]     [32, 2048, 4, 4]     (4,096)              False\n",
       "│    │    └─Sequential (downsample)      [32, 1024, 8, 8]     [32, 2048, 4, 4]     (2,101,248)          False\n",
       "│    │    └─ReLU (relu)                  [32, 2048, 4, 4]     [32, 2048, 4, 4]     --                   --\n",
       "│    └─Bottleneck (1)                    [32, 2048, 4, 4]     [32, 2048, 4, 4]     --                   False\n",
       "│    │    └─Conv2d (conv1)               [32, 2048, 4, 4]     [32, 512, 4, 4]      (1,048,576)          False\n",
       "│    │    └─BatchNorm2d (bn1)            [32, 512, 4, 4]      [32, 512, 4, 4]      (1,024)              False\n",
       "│    │    └─ReLU (relu)                  [32, 512, 4, 4]      [32, 512, 4, 4]      --                   --\n",
       "│    │    └─Conv2d (conv2)               [32, 512, 4, 4]      [32, 512, 4, 4]      (2,359,296)          False\n",
       "│    │    └─BatchNorm2d (bn2)            [32, 512, 4, 4]      [32, 512, 4, 4]      (1,024)              False\n",
       "│    │    └─ReLU (relu)                  [32, 512, 4, 4]      [32, 512, 4, 4]      --                   --\n",
       "│    │    └─Conv2d (conv3)               [32, 512, 4, 4]      [32, 2048, 4, 4]     (1,048,576)          False\n",
       "│    │    └─BatchNorm2d (bn3)            [32, 2048, 4, 4]     [32, 2048, 4, 4]     (4,096)              False\n",
       "│    │    └─ReLU (relu)                  [32, 2048, 4, 4]     [32, 2048, 4, 4]     --                   --\n",
       "│    └─Bottleneck (2)                    [32, 2048, 4, 4]     [32, 2048, 4, 4]     --                   False\n",
       "│    │    └─Conv2d (conv1)               [32, 2048, 4, 4]     [32, 512, 4, 4]      (1,048,576)          False\n",
       "│    │    └─BatchNorm2d (bn1)            [32, 512, 4, 4]      [32, 512, 4, 4]      (1,024)              False\n",
       "│    │    └─ReLU (relu)                  [32, 512, 4, 4]      [32, 512, 4, 4]      --                   --\n",
       "│    │    └─Conv2d (conv2)               [32, 512, 4, 4]      [32, 512, 4, 4]      (2,359,296)          False\n",
       "│    │    └─BatchNorm2d (bn2)            [32, 512, 4, 4]      [32, 512, 4, 4]      (1,024)              False\n",
       "│    │    └─ReLU (relu)                  [32, 512, 4, 4]      [32, 512, 4, 4]      --                   --\n",
       "│    │    └─Conv2d (conv3)               [32, 512, 4, 4]      [32, 2048, 4, 4]     (1,048,576)          False\n",
       "│    │    └─BatchNorm2d (bn3)            [32, 2048, 4, 4]     [32, 2048, 4, 4]     (4,096)              False\n",
       "│    │    └─ReLU (relu)                  [32, 2048, 4, 4]     [32, 2048, 4, 4]     --                   --\n",
       "├─AdaptiveAvgPool2d (avgpool)            [32, 2048, 4, 4]     [32, 2048, 1, 1]     --                   --\n",
       "├─Linear (fc)                            [32, 2048]           [32, 1000]           (2,049,000)          False\n",
       "========================================================================================================================\n",
       "Total params: 25,557,032\n",
       "Trainable params: 0\n",
       "Non-trainable params: 25,557,032\n",
       "Total mult-adds (G): 42.77\n",
       "========================================================================================================================\n",
       "Input size (MB): 6.29\n",
       "Forward/backward pass size (MB): 1858.33\n",
       "Params size (MB): 102.23\n",
       "Estimated Total Size (MB): 1966.85\n",
       "========================================================================================================================"
      ]
     },
     "execution_count": 52,
     "metadata": {},
     "output_type": "execute_result"
    }
   ],
   "source": [
    "summary(model=res_net50, \n",
    "        input_size=(32, 3, 128, 128), # make sure this is \"input_size\", not \"input_shape\"\n",
    "        # col_names=[\"input_size\"], # uncomment for smaller output\n",
    "        col_names=[\"input_size\", \"output_size\", \"num_params\", \"trainable\"],\n",
    "        col_width=20,\n",
    "        row_settings=[\"var_names\"]\n",
    ")"
   ]
  },
  {
   "cell_type": "code",
   "execution_count": 62,
   "id": "0655796b",
   "metadata": {},
   "outputs": [
    {
     "name": "stdout",
     "output_type": "stream",
     "text": [
      "\n",
      "++++++++++++++++++++++++++++++++++++++++\n",
      "Training Run [Model: VGG 16]\n",
      "++++++++++++++++++++++++++++++++++++++++\n"
     ]
    },
    {
     "data": {
      "application/vnd.jupyter.widget-view+json": {
       "model_id": "42a9eb993f704981b75056505a2f3d81",
       "version_major": 2,
       "version_minor": 0
      },
      "text/plain": [
       "  0%|          | 0/294 [00:00<?, ?it/s]"
      ]
     },
     "metadata": {},
     "output_type": "display_data"
    },
    {
     "name": "stdout",
     "output_type": "stream",
     "text": [
      "Epoch: 1 - loss: 1.6452 - acc: 0.4361\n"
     ]
    },
    {
     "data": {
      "application/vnd.jupyter.widget-view+json": {
       "model_id": "7e51523e7d624bd68ca9906c7e60cfd4",
       "version_major": 2,
       "version_minor": 0
      },
      "text/plain": [
       "  0%|          | 0/294 [00:00<?, ?it/s]"
      ]
     },
     "metadata": {},
     "output_type": "display_data"
    },
    {
     "name": "stdout",
     "output_type": "stream",
     "text": [
      "Epoch: 2 - loss: 1.3824 - acc: 0.5078\n"
     ]
    },
    {
     "data": {
      "application/vnd.jupyter.widget-view+json": {
       "model_id": "9df6e3b209c94b66b3668f5ff5efdd11",
       "version_major": 2,
       "version_minor": 0
      },
      "text/plain": [
       "  0%|          | 0/294 [00:00<?, ?it/s]"
      ]
     },
     "metadata": {},
     "output_type": "display_data"
    },
    {
     "name": "stdout",
     "output_type": "stream",
     "text": [
      "Epoch: 3 - loss: 1.2337 - acc: 0.5570\n"
     ]
    },
    {
     "data": {
      "application/vnd.jupyter.widget-view+json": {
       "model_id": "16024076bd944824ada5eaa36ea4b905",
       "version_major": 2,
       "version_minor": 0
      },
      "text/plain": [
       "  0%|          | 0/294 [00:00<?, ?it/s]"
      ]
     },
     "metadata": {},
     "output_type": "display_data"
    },
    {
     "name": "stdout",
     "output_type": "stream",
     "text": [
      "Epoch: 4 - loss: 1.0847 - acc: 0.6133\n"
     ]
    },
    {
     "data": {
      "application/vnd.jupyter.widget-view+json": {
       "model_id": "b93566599b76434e8e66bb8f4b2b0aec",
       "version_major": 2,
       "version_minor": 0
      },
      "text/plain": [
       "  0%|          | 0/294 [00:00<?, ?it/s]"
      ]
     },
     "metadata": {},
     "output_type": "display_data"
    },
    {
     "name": "stdout",
     "output_type": "stream",
     "text": [
      "Epoch: 5 - loss: 0.9172 - acc: 0.6770\n"
     ]
    },
    {
     "data": {
      "application/vnd.jupyter.widget-view+json": {
       "model_id": "f1bc0813264c41769a97367850716f64",
       "version_major": 2,
       "version_minor": 0
      },
      "text/plain": [
       "  0%|          | 0/294 [00:00<?, ?it/s]"
      ]
     },
     "metadata": {},
     "output_type": "display_data"
    },
    {
     "ename": "KeyboardInterrupt",
     "evalue": "",
     "output_type": "error",
     "traceback": [
      "\u001b[1;31m---------------------------------------------------------------------------\u001b[0m",
      "\u001b[1;31mKeyboardInterrupt\u001b[0m                         Traceback (most recent call last)",
      "Input \u001b[1;32mIn [62]\u001b[0m, in \u001b[0;36m<cell line: 14>\u001b[1;34m()\u001b[0m\n\u001b[0;32m     10\u001b[0m     param\u001b[38;5;241m.\u001b[39mrequires_grad \u001b[38;5;241m=\u001b[39m \u001b[38;5;28;01mTrue\u001b[39;00m\n\u001b[0;32m     12\u001b[0m vggnet_16\u001b[38;5;241m.\u001b[39mclassifier[\u001b[38;5;241m6\u001b[39m] \u001b[38;5;241m=\u001b[39m nn\u001b[38;5;241m.\u001b[39mLinear(\u001b[38;5;241m4096\u001b[39m, classes)\n\u001b[1;32m---> 14\u001b[0m \u001b[43mtrain_model\u001b[49m\u001b[43m(\u001b[49m\u001b[43mvggnet_16\u001b[49m\u001b[43m,\u001b[49m\u001b[43m \u001b[49m\u001b[38;5;124;43m\"\u001b[39;49m\u001b[38;5;124;43mVGG 16\u001b[39;49m\u001b[38;5;124;43m\"\u001b[39;49m\u001b[43m)\u001b[49m\n",
      "Input \u001b[1;32mIn [34]\u001b[0m, in \u001b[0;36mtrain_model\u001b[1;34m(model, name)\u001b[0m\n\u001b[0;32m     35\u001b[0m data \u001b[38;5;241m=\u001b[39m data\u001b[38;5;241m.\u001b[39mto(device) \u001b[38;5;66;03m# Ensure we're processing data on GPU\u001b[39;00m\n\u001b[0;32m     36\u001b[0m label \u001b[38;5;241m=\u001b[39m label\u001b[38;5;241m.\u001b[39mto(device)\n\u001b[1;32m---> 38\u001b[0m output \u001b[38;5;241m=\u001b[39m \u001b[43mmodel\u001b[49m\u001b[43m(\u001b[49m\u001b[43mdata\u001b[49m\u001b[43m)\u001b[49m\n\u001b[0;32m     39\u001b[0m loss \u001b[38;5;241m=\u001b[39m criterion(output, label)\n\u001b[0;32m     41\u001b[0m optimizer\u001b[38;5;241m.\u001b[39mzero_grad() \u001b[38;5;66;03m# Zero out the gradient -- we'll experience weird bugs if we forget to do so\u001b[39;00m\n",
      "File \u001b[1;32m~\\anaconda3\\lib\\site-packages\\torch\\nn\\modules\\module.py:1518\u001b[0m, in \u001b[0;36m_wrapped_call_impl\u001b[1;34m(self, *args, **kwargs)\u001b[0m\n\u001b[0;32m   1516\u001b[0m \u001b[38;5;28;01mif\u001b[39;00m hook_id \u001b[38;5;129;01min\u001b[39;00m \u001b[38;5;28mself\u001b[39m\u001b[38;5;241m.\u001b[39m_forward_pre_hooks_with_kwargs:\n\u001b[0;32m   1517\u001b[0m     result \u001b[38;5;241m=\u001b[39m hook(\u001b[38;5;28mself\u001b[39m, args, kwargs)  \u001b[38;5;66;03m# type: ignore[misc]\u001b[39;00m\n\u001b[1;32m-> 1518\u001b[0m     \u001b[38;5;28;01mif\u001b[39;00m result \u001b[38;5;129;01mis\u001b[39;00m \u001b[38;5;129;01mnot\u001b[39;00m \u001b[38;5;28;01mNone\u001b[39;00m:\n\u001b[0;32m   1519\u001b[0m         \u001b[38;5;28;01mif\u001b[39;00m \u001b[38;5;28misinstance\u001b[39m(result, \u001b[38;5;28mtuple\u001b[39m) \u001b[38;5;129;01mand\u001b[39;00m \u001b[38;5;28mlen\u001b[39m(result) \u001b[38;5;241m==\u001b[39m \u001b[38;5;241m2\u001b[39m:\n\u001b[0;32m   1520\u001b[0m             args, kwargs \u001b[38;5;241m=\u001b[39m result\n",
      "File \u001b[1;32m~\\anaconda3\\lib\\site-packages\\torch\\nn\\modules\\module.py:1527\u001b[0m, in \u001b[0;36m_call_impl\u001b[1;34m(self, *args, **kwargs)\u001b[0m\n\u001b[0;32m   1522\u001b[0m             \u001b[38;5;28;01mraise\u001b[39;00m \u001b[38;5;167;01mRuntimeError\u001b[39;00m(\n\u001b[0;32m   1523\u001b[0m                 \u001b[38;5;124m\"\u001b[39m\u001b[38;5;124mforward pre-hook must return None or a tuple \u001b[39m\u001b[38;5;124m\"\u001b[39m\n\u001b[0;32m   1524\u001b[0m                 \u001b[38;5;124mf\u001b[39m\u001b[38;5;124m\"\u001b[39m\u001b[38;5;124mof (new_args, new_kwargs), but got \u001b[39m\u001b[38;5;132;01m{\u001b[39;00mresult\u001b[38;5;132;01m}\u001b[39;00m\u001b[38;5;124m.\u001b[39m\u001b[38;5;124m\"\u001b[39m\n\u001b[0;32m   1525\u001b[0m             )\n\u001b[0;32m   1526\u001b[0m \u001b[38;5;28;01melse\u001b[39;00m:\n\u001b[1;32m-> 1527\u001b[0m     result \u001b[38;5;241m=\u001b[39m hook(\u001b[38;5;28mself\u001b[39m, args)\n\u001b[0;32m   1528\u001b[0m     \u001b[38;5;28;01mif\u001b[39;00m result \u001b[38;5;129;01mis\u001b[39;00m \u001b[38;5;129;01mnot\u001b[39;00m \u001b[38;5;28;01mNone\u001b[39;00m:\n\u001b[0;32m   1529\u001b[0m         \u001b[38;5;28;01mif\u001b[39;00m \u001b[38;5;129;01mnot\u001b[39;00m \u001b[38;5;28misinstance\u001b[39m(result, \u001b[38;5;28mtuple\u001b[39m):\n",
      "File \u001b[1;32m~\\anaconda3\\lib\\site-packages\\torchvision\\models\\vgg.py:66\u001b[0m, in \u001b[0;36mVGG.forward\u001b[1;34m(self, x)\u001b[0m\n\u001b[0;32m     65\u001b[0m \u001b[38;5;28;01mdef\u001b[39;00m \u001b[38;5;21mforward\u001b[39m(\u001b[38;5;28mself\u001b[39m, x: torch\u001b[38;5;241m.\u001b[39mTensor) \u001b[38;5;241m-\u001b[39m\u001b[38;5;241m>\u001b[39m torch\u001b[38;5;241m.\u001b[39mTensor:\n\u001b[1;32m---> 66\u001b[0m     x \u001b[38;5;241m=\u001b[39m \u001b[38;5;28;43mself\u001b[39;49m\u001b[38;5;241;43m.\u001b[39;49m\u001b[43mfeatures\u001b[49m\u001b[43m(\u001b[49m\u001b[43mx\u001b[49m\u001b[43m)\u001b[49m\n\u001b[0;32m     67\u001b[0m     x \u001b[38;5;241m=\u001b[39m \u001b[38;5;28mself\u001b[39m\u001b[38;5;241m.\u001b[39mavgpool(x)\n\u001b[0;32m     68\u001b[0m     x \u001b[38;5;241m=\u001b[39m torch\u001b[38;5;241m.\u001b[39mflatten(x, \u001b[38;5;241m1\u001b[39m)\n",
      "File \u001b[1;32m~\\anaconda3\\lib\\site-packages\\torch\\nn\\modules\\module.py:1518\u001b[0m, in \u001b[0;36m_wrapped_call_impl\u001b[1;34m(self, *args, **kwargs)\u001b[0m\n\u001b[0;32m   1516\u001b[0m \u001b[38;5;28;01mif\u001b[39;00m hook_id \u001b[38;5;129;01min\u001b[39;00m \u001b[38;5;28mself\u001b[39m\u001b[38;5;241m.\u001b[39m_forward_pre_hooks_with_kwargs:\n\u001b[0;32m   1517\u001b[0m     result \u001b[38;5;241m=\u001b[39m hook(\u001b[38;5;28mself\u001b[39m, args, kwargs)  \u001b[38;5;66;03m# type: ignore[misc]\u001b[39;00m\n\u001b[1;32m-> 1518\u001b[0m     \u001b[38;5;28;01mif\u001b[39;00m result \u001b[38;5;129;01mis\u001b[39;00m \u001b[38;5;129;01mnot\u001b[39;00m \u001b[38;5;28;01mNone\u001b[39;00m:\n\u001b[0;32m   1519\u001b[0m         \u001b[38;5;28;01mif\u001b[39;00m \u001b[38;5;28misinstance\u001b[39m(result, \u001b[38;5;28mtuple\u001b[39m) \u001b[38;5;129;01mand\u001b[39;00m \u001b[38;5;28mlen\u001b[39m(result) \u001b[38;5;241m==\u001b[39m \u001b[38;5;241m2\u001b[39m:\n\u001b[0;32m   1520\u001b[0m             args, kwargs \u001b[38;5;241m=\u001b[39m result\n",
      "File \u001b[1;32m~\\anaconda3\\lib\\site-packages\\torch\\nn\\modules\\module.py:1527\u001b[0m, in \u001b[0;36m_call_impl\u001b[1;34m(self, *args, **kwargs)\u001b[0m\n\u001b[0;32m   1522\u001b[0m             \u001b[38;5;28;01mraise\u001b[39;00m \u001b[38;5;167;01mRuntimeError\u001b[39;00m(\n\u001b[0;32m   1523\u001b[0m                 \u001b[38;5;124m\"\u001b[39m\u001b[38;5;124mforward pre-hook must return None or a tuple \u001b[39m\u001b[38;5;124m\"\u001b[39m\n\u001b[0;32m   1524\u001b[0m                 \u001b[38;5;124mf\u001b[39m\u001b[38;5;124m\"\u001b[39m\u001b[38;5;124mof (new_args, new_kwargs), but got \u001b[39m\u001b[38;5;132;01m{\u001b[39;00mresult\u001b[38;5;132;01m}\u001b[39;00m\u001b[38;5;124m.\u001b[39m\u001b[38;5;124m\"\u001b[39m\n\u001b[0;32m   1525\u001b[0m             )\n\u001b[0;32m   1526\u001b[0m \u001b[38;5;28;01melse\u001b[39;00m:\n\u001b[1;32m-> 1527\u001b[0m     result \u001b[38;5;241m=\u001b[39m hook(\u001b[38;5;28mself\u001b[39m, args)\n\u001b[0;32m   1528\u001b[0m     \u001b[38;5;28;01mif\u001b[39;00m result \u001b[38;5;129;01mis\u001b[39;00m \u001b[38;5;129;01mnot\u001b[39;00m \u001b[38;5;28;01mNone\u001b[39;00m:\n\u001b[0;32m   1529\u001b[0m         \u001b[38;5;28;01mif\u001b[39;00m \u001b[38;5;129;01mnot\u001b[39;00m \u001b[38;5;28misinstance\u001b[39m(result, \u001b[38;5;28mtuple\u001b[39m):\n",
      "File \u001b[1;32m~\\anaconda3\\lib\\site-packages\\torch\\nn\\modules\\container.py:215\u001b[0m, in \u001b[0;36mforward\u001b[1;34m(self, input)\u001b[0m\n\u001b[0;32m    209\u001b[0m     \u001b[38;5;28;01mreturn\u001b[39;00m \u001b[38;5;28miter\u001b[39m(\u001b[38;5;28mself\u001b[39m\u001b[38;5;241m.\u001b[39m_modules\u001b[38;5;241m.\u001b[39mvalues())\n\u001b[0;32m    211\u001b[0m \u001b[38;5;66;03m# NB: We can't really type check this function as the type of input\u001b[39;00m\n\u001b[0;32m    212\u001b[0m \u001b[38;5;66;03m# may change dynamically (as is tested in\u001b[39;00m\n\u001b[0;32m    213\u001b[0m \u001b[38;5;66;03m# TestScript.test_sequential_intermediary_types).  Cannot annotate\u001b[39;00m\n\u001b[0;32m    214\u001b[0m \u001b[38;5;66;03m# with Any as TorchScript expects a more precise type\u001b[39;00m\n\u001b[1;32m--> 215\u001b[0m \u001b[38;5;28;01mdef\u001b[39;00m \u001b[38;5;21mforward\u001b[39m(\u001b[38;5;28mself\u001b[39m, \u001b[38;5;28minput\u001b[39m):\n\u001b[0;32m    216\u001b[0m     \u001b[38;5;28;01mfor\u001b[39;00m module \u001b[38;5;129;01min\u001b[39;00m \u001b[38;5;28mself\u001b[39m:\n\u001b[0;32m    217\u001b[0m         \u001b[38;5;28minput\u001b[39m \u001b[38;5;241m=\u001b[39m module(\u001b[38;5;28minput\u001b[39m)\n",
      "File \u001b[1;32m~\\anaconda3\\lib\\site-packages\\torch\\nn\\modules\\module.py:1518\u001b[0m, in \u001b[0;36m_wrapped_call_impl\u001b[1;34m(self, *args, **kwargs)\u001b[0m\n\u001b[0;32m   1516\u001b[0m \u001b[38;5;28;01mif\u001b[39;00m hook_id \u001b[38;5;129;01min\u001b[39;00m \u001b[38;5;28mself\u001b[39m\u001b[38;5;241m.\u001b[39m_forward_pre_hooks_with_kwargs:\n\u001b[0;32m   1517\u001b[0m     result \u001b[38;5;241m=\u001b[39m hook(\u001b[38;5;28mself\u001b[39m, args, kwargs)  \u001b[38;5;66;03m# type: ignore[misc]\u001b[39;00m\n\u001b[1;32m-> 1518\u001b[0m     \u001b[38;5;28;01mif\u001b[39;00m result \u001b[38;5;129;01mis\u001b[39;00m \u001b[38;5;129;01mnot\u001b[39;00m \u001b[38;5;28;01mNone\u001b[39;00m:\n\u001b[0;32m   1519\u001b[0m         \u001b[38;5;28;01mif\u001b[39;00m \u001b[38;5;28misinstance\u001b[39m(result, \u001b[38;5;28mtuple\u001b[39m) \u001b[38;5;129;01mand\u001b[39;00m \u001b[38;5;28mlen\u001b[39m(result) \u001b[38;5;241m==\u001b[39m \u001b[38;5;241m2\u001b[39m:\n\u001b[0;32m   1520\u001b[0m             args, kwargs \u001b[38;5;241m=\u001b[39m result\n",
      "File \u001b[1;32m~\\anaconda3\\lib\\site-packages\\torch\\nn\\modules\\module.py:1527\u001b[0m, in \u001b[0;36m_call_impl\u001b[1;34m(self, *args, **kwargs)\u001b[0m\n\u001b[0;32m   1522\u001b[0m             \u001b[38;5;28;01mraise\u001b[39;00m \u001b[38;5;167;01mRuntimeError\u001b[39;00m(\n\u001b[0;32m   1523\u001b[0m                 \u001b[38;5;124m\"\u001b[39m\u001b[38;5;124mforward pre-hook must return None or a tuple \u001b[39m\u001b[38;5;124m\"\u001b[39m\n\u001b[0;32m   1524\u001b[0m                 \u001b[38;5;124mf\u001b[39m\u001b[38;5;124m\"\u001b[39m\u001b[38;5;124mof (new_args, new_kwargs), but got \u001b[39m\u001b[38;5;132;01m{\u001b[39;00mresult\u001b[38;5;132;01m}\u001b[39;00m\u001b[38;5;124m.\u001b[39m\u001b[38;5;124m\"\u001b[39m\n\u001b[0;32m   1525\u001b[0m             )\n\u001b[0;32m   1526\u001b[0m \u001b[38;5;28;01melse\u001b[39;00m:\n\u001b[1;32m-> 1527\u001b[0m     result \u001b[38;5;241m=\u001b[39m hook(\u001b[38;5;28mself\u001b[39m, args)\n\u001b[0;32m   1528\u001b[0m     \u001b[38;5;28;01mif\u001b[39;00m result \u001b[38;5;129;01mis\u001b[39;00m \u001b[38;5;129;01mnot\u001b[39;00m \u001b[38;5;28;01mNone\u001b[39;00m:\n\u001b[0;32m   1529\u001b[0m         \u001b[38;5;28;01mif\u001b[39;00m \u001b[38;5;129;01mnot\u001b[39;00m \u001b[38;5;28misinstance\u001b[39m(result, \u001b[38;5;28mtuple\u001b[39m):\n",
      "File \u001b[1;32m~\\anaconda3\\lib\\site-packages\\torch\\nn\\modules\\conv.py:460\u001b[0m, in \u001b[0;36mforward\u001b[1;34m(self, input)\u001b[0m\n\u001b[0;32m    455\u001b[0m \u001b[38;5;28;01mif\u001b[39;00m \u001b[38;5;28mself\u001b[39m\u001b[38;5;241m.\u001b[39mpadding_mode \u001b[38;5;241m!=\u001b[39m \u001b[38;5;124m'\u001b[39m\u001b[38;5;124mzeros\u001b[39m\u001b[38;5;124m'\u001b[39m:\n\u001b[0;32m    456\u001b[0m     \u001b[38;5;28;01mreturn\u001b[39;00m F\u001b[38;5;241m.\u001b[39mconv2d(F\u001b[38;5;241m.\u001b[39mpad(\u001b[38;5;28minput\u001b[39m, \u001b[38;5;28mself\u001b[39m\u001b[38;5;241m.\u001b[39m_reversed_padding_repeated_twice, mode\u001b[38;5;241m=\u001b[39m\u001b[38;5;28mself\u001b[39m\u001b[38;5;241m.\u001b[39mpadding_mode),\n\u001b[0;32m    457\u001b[0m                     weight, bias, \u001b[38;5;28mself\u001b[39m\u001b[38;5;241m.\u001b[39mstride,\n\u001b[0;32m    458\u001b[0m                     _pair(\u001b[38;5;241m0\u001b[39m), \u001b[38;5;28mself\u001b[39m\u001b[38;5;241m.\u001b[39mdilation, \u001b[38;5;28mself\u001b[39m\u001b[38;5;241m.\u001b[39mgroups)\n\u001b[0;32m    459\u001b[0m \u001b[38;5;28;01mreturn\u001b[39;00m F\u001b[38;5;241m.\u001b[39mconv2d(\u001b[38;5;28minput\u001b[39m, weight, bias, \u001b[38;5;28mself\u001b[39m\u001b[38;5;241m.\u001b[39mstride,\n\u001b[1;32m--> 460\u001b[0m                 \u001b[38;5;28mself\u001b[39m\u001b[38;5;241m.\u001b[39mpadding, \u001b[38;5;28mself\u001b[39m\u001b[38;5;241m.\u001b[39mdilation, \u001b[38;5;28mself\u001b[39m\u001b[38;5;241m.\u001b[39mgroups)\n",
      "File \u001b[1;32m~\\anaconda3\\lib\\site-packages\\torch\\nn\\modules\\conv.py:456\u001b[0m, in \u001b[0;36m_conv_forward\u001b[1;34m(self, input, weight, bias)\u001b[0m\n\u001b[0;32m    454\u001b[0m \u001b[38;5;28;01mdef\u001b[39;00m \u001b[38;5;21m_conv_forward\u001b[39m(\u001b[38;5;28mself\u001b[39m, \u001b[38;5;28minput\u001b[39m: Tensor, weight: Tensor, bias: Optional[Tensor]):\n\u001b[0;32m    455\u001b[0m     \u001b[38;5;28;01mif\u001b[39;00m \u001b[38;5;28mself\u001b[39m\u001b[38;5;241m.\u001b[39mpadding_mode \u001b[38;5;241m!=\u001b[39m \u001b[38;5;124m'\u001b[39m\u001b[38;5;124mzeros\u001b[39m\u001b[38;5;124m'\u001b[39m:\n\u001b[1;32m--> 456\u001b[0m         \u001b[38;5;28;01mreturn\u001b[39;00m F\u001b[38;5;241m.\u001b[39mconv2d(F\u001b[38;5;241m.\u001b[39mpad(\u001b[38;5;28minput\u001b[39m, \u001b[38;5;28mself\u001b[39m\u001b[38;5;241m.\u001b[39m_reversed_padding_repeated_twice, mode\u001b[38;5;241m=\u001b[39m\u001b[38;5;28mself\u001b[39m\u001b[38;5;241m.\u001b[39mpadding_mode),\n\u001b[0;32m    457\u001b[0m                         weight, bias, \u001b[38;5;28mself\u001b[39m\u001b[38;5;241m.\u001b[39mstride,\n\u001b[0;32m    458\u001b[0m                         _pair(\u001b[38;5;241m0\u001b[39m), \u001b[38;5;28mself\u001b[39m\u001b[38;5;241m.\u001b[39mdilation, \u001b[38;5;28mself\u001b[39m\u001b[38;5;241m.\u001b[39mgroups)\n\u001b[0;32m    459\u001b[0m     \u001b[38;5;28;01mreturn\u001b[39;00m F\u001b[38;5;241m.\u001b[39mconv2d(\u001b[38;5;28minput\u001b[39m, weight, bias, \u001b[38;5;28mself\u001b[39m\u001b[38;5;241m.\u001b[39mstride,\n\u001b[0;32m    460\u001b[0m                     \u001b[38;5;28mself\u001b[39m\u001b[38;5;241m.\u001b[39mpadding, \u001b[38;5;28mself\u001b[39m\u001b[38;5;241m.\u001b[39mdilation, \u001b[38;5;28mself\u001b[39m\u001b[38;5;241m.\u001b[39mgroups)\n",
      "\u001b[1;31mKeyboardInterrupt\u001b[0m: "
     ]
    }
   ],
   "source": [
    "# VGG - 16 no Batch Normalization\n",
    "weights = torchvision.models.VGG16_Weights.DEFAULT\n",
    "vggnet_16 = torchvision.models.vgg16(weights=weights).to(device)\n",
    "# num_ftrs = res_net_50.fc.in_features\n",
    "\n",
    "for param in vggnet_16.parameters():\n",
    "    param.requires_grad = False\n",
    "\n",
    "for param in vggnet_16.classifier.parameters():\n",
    "    param.requires_grad = True\n",
    "\n",
    "vggnet_16.classifier[6] = nn.Linear(4096, classes)\n",
    "\n",
    "train_model(vggnet_16, \"VGG 16\")"
   ]
  },
  {
   "cell_type": "code",
   "execution_count": null,
   "id": "21c75b72",
   "metadata": {},
   "outputs": [],
   "source": [
    "summary(model=vggnet_16, \n",
    "        input_size=(32, 3, 128, 128), # make sure this is \"input_size\", not \"input_shape\"\n",
    "        # col_names=[\"input_size\"], # uncomment for smaller output\n",
    "        col_names=[\"input_size\", \"output_size\", \"num_params\", \"trainable\"],\n",
    "        col_width=20,\n",
    "        row_settings=[\"var_names\"]\n",
    ")"
   ]
  },
  {
   "cell_type": "code",
   "execution_count": 61,
   "id": "3a712c92",
   "metadata": {},
   "outputs": [
    {
     "data": {
      "text/plain": [
       "========================================================================================================================\n",
       "Layer (type (var_name))                  Input Shape          Output Shape         Param #              Trainable\n",
       "========================================================================================================================\n",
       "VGG (VGG)                                [32, 3, 128, 128]    [32, 23]             --                   Partial\n",
       "├─Sequential (features)                  [32, 3, 128, 128]    [32, 512, 4, 4]      --                   False\n",
       "│    └─Conv2d (0)                        [32, 3, 128, 128]    [32, 64, 128, 128]   (1,792)              False\n",
       "│    └─ReLU (1)                          [32, 64, 128, 128]   [32, 64, 128, 128]   --                   --\n",
       "│    └─Conv2d (2)                        [32, 64, 128, 128]   [32, 64, 128, 128]   (36,928)             False\n",
       "│    └─ReLU (3)                          [32, 64, 128, 128]   [32, 64, 128, 128]   --                   --\n",
       "│    └─MaxPool2d (4)                     [32, 64, 128, 128]   [32, 64, 64, 64]     --                   --\n",
       "│    └─Conv2d (5)                        [32, 64, 64, 64]     [32, 128, 64, 64]    (73,856)             False\n",
       "│    └─ReLU (6)                          [32, 128, 64, 64]    [32, 128, 64, 64]    --                   --\n",
       "│    └─Conv2d (7)                        [32, 128, 64, 64]    [32, 128, 64, 64]    (147,584)            False\n",
       "│    └─ReLU (8)                          [32, 128, 64, 64]    [32, 128, 64, 64]    --                   --\n",
       "│    └─MaxPool2d (9)                     [32, 128, 64, 64]    [32, 128, 32, 32]    --                   --\n",
       "│    └─Conv2d (10)                       [32, 128, 32, 32]    [32, 256, 32, 32]    (295,168)            False\n",
       "│    └─ReLU (11)                         [32, 256, 32, 32]    [32, 256, 32, 32]    --                   --\n",
       "│    └─Conv2d (12)                       [32, 256, 32, 32]    [32, 256, 32, 32]    (590,080)            False\n",
       "│    └─ReLU (13)                         [32, 256, 32, 32]    [32, 256, 32, 32]    --                   --\n",
       "│    └─Conv2d (14)                       [32, 256, 32, 32]    [32, 256, 32, 32]    (590,080)            False\n",
       "│    └─ReLU (15)                         [32, 256, 32, 32]    [32, 256, 32, 32]    --                   --\n",
       "│    └─MaxPool2d (16)                    [32, 256, 32, 32]    [32, 256, 16, 16]    --                   --\n",
       "│    └─Conv2d (17)                       [32, 256, 16, 16]    [32, 512, 16, 16]    (1,180,160)          False\n",
       "│    └─ReLU (18)                         [32, 512, 16, 16]    [32, 512, 16, 16]    --                   --\n",
       "│    └─Conv2d (19)                       [32, 512, 16, 16]    [32, 512, 16, 16]    (2,359,808)          False\n",
       "│    └─ReLU (20)                         [32, 512, 16, 16]    [32, 512, 16, 16]    --                   --\n",
       "│    └─Conv2d (21)                       [32, 512, 16, 16]    [32, 512, 16, 16]    (2,359,808)          False\n",
       "│    └─ReLU (22)                         [32, 512, 16, 16]    [32, 512, 16, 16]    --                   --\n",
       "│    └─MaxPool2d (23)                    [32, 512, 16, 16]    [32, 512, 8, 8]      --                   --\n",
       "│    └─Conv2d (24)                       [32, 512, 8, 8]      [32, 512, 8, 8]      (2,359,808)          False\n",
       "│    └─ReLU (25)                         [32, 512, 8, 8]      [32, 512, 8, 8]      --                   --\n",
       "│    └─Conv2d (26)                       [32, 512, 8, 8]      [32, 512, 8, 8]      (2,359,808)          False\n",
       "│    └─ReLU (27)                         [32, 512, 8, 8]      [32, 512, 8, 8]      --                   --\n",
       "│    └─Conv2d (28)                       [32, 512, 8, 8]      [32, 512, 8, 8]      (2,359,808)          False\n",
       "│    └─ReLU (29)                         [32, 512, 8, 8]      [32, 512, 8, 8]      --                   --\n",
       "│    └─MaxPool2d (30)                    [32, 512, 8, 8]      [32, 512, 4, 4]      --                   --\n",
       "├─AdaptiveAvgPool2d (avgpool)            [32, 512, 4, 4]      [32, 512, 7, 7]      --                   --\n",
       "├─Sequential (classifier)                [32, 25088]          [32, 23]             --                   True\n",
       "│    └─Linear (0)                        [32, 25088]          [32, 4096]           102,764,544          True\n",
       "│    └─ReLU (1)                          [32, 4096]           [32, 4096]           --                   --\n",
       "│    └─Dropout (2)                       [32, 4096]           [32, 4096]           --                   --\n",
       "│    └─Linear (3)                        [32, 4096]           [32, 4096]           16,781,312           True\n",
       "│    └─ReLU (4)                          [32, 4096]           [32, 4096]           --                   --\n",
       "│    └─Dropout (5)                       [32, 4096]           [32, 4096]           --                   --\n",
       "│    └─Linear (6)                        [32, 4096]           [32, 23]             94,231               True\n",
       "========================================================================================================================\n",
       "Total params: 134,354,775\n",
       "Trainable params: 119,640,087\n",
       "Non-trainable params: 14,714,688\n",
       "Total mult-adds (G): 164.33\n",
       "========================================================================================================================\n",
       "Input size (MB): 6.29\n",
       "Forward/backward pass size (MB): 1134.57\n",
       "Params size (MB): 537.42\n",
       "Estimated Total Size (MB): 1678.28\n",
       "========================================================================================================================"
      ]
     },
     "execution_count": 61,
     "metadata": {},
     "output_type": "execute_result"
    }
   ],
   "source": [
    "# VGG - 16 with Batch Normalization\n",
    "\n",
    "weights = torchvision.models.VGG16_BN_Weights.DEFAULT\n",
    "vggnet_16_bn = torchvision.models.vgg16_bn(weights=weights).to(device)\n",
    "# num_ftrs = vggnet_16_bn.fc.in_features\n",
    "\n",
    "for param in vggnet_16.parameters():\n",
    "    param.requires_grad = False\n",
    "\n",
    "for param in vggnet_16.classifier.parameters():\n",
    "    param.requires_grad = True\n",
    "\n",
    "vggnet_16.classifier[6] = nn.Linear(4096, classes)\n",
    "\n",
    "# train_model(vggnet_16, \"VGG 16 with Batch Normalization\")"
   ]
  },
  {
   "cell_type": "code",
   "execution_count": null,
   "id": "68441267",
   "metadata": {},
   "outputs": [],
   "source": [
    "summary(model=vggnet_16, \n",
    "        input_size=(32, 3, 128, 128), # make sure this is \"input_size\", not \"input_shape\"\n",
    "        # col_names=[\"input_size\"], # uncomment for smaller output\n",
    "        col_names=[\"input_size\", \"output_size\", \"num_params\", \"trainable\"],\n",
    "        col_width=20,\n",
    "        row_settings=[\"var_names\"]\n",
    ")"
   ]
  },
  {
   "cell_type": "code",
   "execution_count": null,
   "id": "872a0465",
   "metadata": {},
   "outputs": [],
   "source": [
    "# Mobile Net Small Params\n",
    "weights = torchvision.models.MobileNet_V3_Small_Weights.DEFAULT\n",
    "mobile_net = torchvision.models.mobilenet_v3_small(weights=res_weights).to(device)\n",
    "num_ftrs = mobile_net.fc.in_features\n",
    "\n",
    "for param in mobile_net.parameters():\n",
    "    param.requires_grad = False\n",
    "\n",
    "for param in mobile_net.fc.parameters():\n",
    "    param.requires_grad = True\n",
    "\n",
    "mobile_net.fc = nn.Sequential(\n",
    "    nn.Linear(num_ftrs, classes)\n",
    ")\n",
    "\n",
    "train_model(mobile_net, \"Mobile Net Small Weights\")"
   ]
  },
  {
   "cell_type": "code",
   "execution_count": null,
   "id": "100402e1",
   "metadata": {},
   "outputs": [],
   "source": [
    "summary(model=mobile_net, \n",
    "        input_size=(32, 3, 128, 128), # make sure this is \"input_size\", not \"input_shape\"\n",
    "        # col_names=[\"input_size\"], # uncomment for smaller output\n",
    "        col_names=[\"input_size\", \"output_size\", \"num_params\", \"trainable\"],\n",
    "        col_width=20,\n",
    "        row_settings=[\"var_names\"]\n",
    ")"
   ]
  },
  {
   "cell_type": "code",
   "execution_count": null,
   "id": "f2d2e263",
   "metadata": {},
   "outputs": [],
   "source": [
    "# Mobile Net Large Params\n",
    "weights = torchvision.models.MobileNet_V3_Large_Weights.DEFAULT\n",
    "mobile_net_large = torchvision.models.resnet50(weights=res_weights).to(device)\n",
    "num_ftrs = mobile_net_large.fc.in_features\n",
    "\n",
    "for param in mobile_net_large.parameters():\n",
    "    param.requires_grad = False\n",
    "\n",
    "for param in mobile_net_large.fc.parameters():\n",
    "    param.requires_grad = True\n",
    "\n",
    "mobile_net_large.fc = nn.Sequential(\n",
    "    nn.Linear(num_ftrs, classes)\n",
    ")\n",
    "\n",
    "train_model(mobile_net_large, \"ResNet 50\")"
   ]
  },
  {
   "cell_type": "code",
   "execution_count": null,
   "id": "8a6992ee",
   "metadata": {},
   "outputs": [],
   "source": [
    "summary(model=vggnet_16, \n",
    "        input_size=(32, 3, 128, 128), # make sure this is \"input_size\", not \"input_shape\"\n",
    "        # col_names=[\"input_size\"], # uncomment for smaller output\n",
    "        col_names=[\"input_size\", \"output_size\", \"num_params\", \"trainable\"],\n",
    "        col_width=20,\n",
    "        row_settings=[\"var_names\"]\n",
    ")"
   ]
  },
  {
   "cell_type": "code",
   "execution_count": null,
   "id": "1d946b51",
   "metadata": {},
   "outputs": [],
   "source": [
    "# Alex Net\n",
    "weights = torchvision.models.AlexNet_Weights.DEFAULT\n",
    "alex_net = torchvision.models.AlexNet_Weights(weights=weights).to(device)\n",
    "num_ftrs = alex_net.fc.in_features\n",
    "\n",
    "for param in alex_net.parameters():\n",
    "    param.requires_grad = False\n",
    "\n",
    "for param in alex_net.fc.parameters():\n",
    "    param.requires_grad = True\n",
    "\n",
    "alex_net.fc = nn.Sequential(\n",
    "    nn.Linear(num_ftrs, classes)\n",
    ")\n",
    "\n",
    "train_model(alex_net, \"Alex Net\")"
   ]
  },
  {
   "cell_type": "code",
   "execution_count": null,
   "id": "1e22a089",
   "metadata": {},
   "outputs": [],
   "source": [
    "summary(model=alex_net, \n",
    "        input_size=(32, 3, 128, 128), # make sure this is \"input_size\", not \"input_shape\"\n",
    "        # col_names=[\"input_size\"], # uncomment for smaller output\n",
    "        col_names=[\"input_size\", \"output_size\", \"num_params\", \"trainable\"],\n",
    "        col_width=20,\n",
    "        row_settings=[\"var_names\"]\n",
    ")"
   ]
  },
  {
   "cell_type": "code",
   "execution_count": null,
   "id": "d40e2858",
   "metadata": {},
   "outputs": [],
   "source": [
    "# VGG 19\n",
    "weights = torchvision.models.VGG19_Weights.DEFAULT\n",
    "vgg_19_net = torchvision.models.vgg19(weights=weights).to(device)\n",
    "num_ftrs = vgg_19_net.fc.in_features\n",
    "\n",
    "for param in vgg_19_net.parameters():\n",
    "    param.requires_grad = False\n",
    "\n",
    "for param in vgg_19_net.fc.parameters():\n",
    "    param.requires_grad = True\n",
    "\n",
    "vgg_19.fc = nn.Sequential(\n",
    "    nn.Linear(num_ftrs, classes)\n",
    ")\n",
    "\n",
    "train_model(vgg_19_net, \"VGG 19\")"
   ]
  },
  {
   "cell_type": "code",
   "execution_count": null,
   "id": "6bf921c2",
   "metadata": {},
   "outputs": [],
   "source": [
    "summary(model=vgg_19_net, \n",
    "        input_size=(32, 3, 128, 128), # make sure this is \"input_size\", not \"input_shape\"\n",
    "        # col_names=[\"input_size\"], # uncomment for smaller output\n",
    "        col_names=[\"input_size\", \"output_size\", \"num_params\", \"trainable\"],\n",
    "        col_width=20,\n",
    "        row_settings=[\"var_names\"]\n",
    ")"
   ]
  }
 ],
 "metadata": {
  "kernelspec": {
   "display_name": "Python 3 (ipykernel)",
   "language": "python",
   "name": "python3"
  },
  "language_info": {
   "codemirror_mode": {
    "name": "ipython",
    "version": 3
   },
   "file_extension": ".py",
   "mimetype": "text/x-python",
   "name": "python",
   "nbconvert_exporter": "python",
   "pygments_lexer": "ipython3",
   "version": "3.9.12"
  }
 },
 "nbformat": 4,
 "nbformat_minor": 5
}
