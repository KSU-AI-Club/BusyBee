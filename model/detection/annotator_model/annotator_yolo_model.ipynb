{
 "cells": [
  {
   "cell_type": "code",
   "execution_count": null,
   "id": "275542f7-3b21-44e7-8f3b-9766a39581b7",
   "metadata": {},
   "outputs": [],
   "source": [
    "from ultralytics import YOLO"
   ]
  },
  {
   "cell_type": "code",
   "execution_count": null,
   "id": "83680d0c-1bdb-4089-bdcb-5488a583edbc",
   "metadata": {},
   "outputs": [],
   "source": [
    "# Load Model\n",
    "model = YOLO(\"yolov8n.yaml\") # Build a new model from scratch\n",
    "\n",
    "# Train the model \n",
    "results = model.train(data=\"config.yaml\", epochs=300) "
   ]
  },
  {
   "cell_type": "code",
   "execution_count": null,
   "id": "7e26b343-fe24-4e90-a697-f9040a14c29c",
   "metadata": {},
   "outputs": [],
   "source": [
    "# Load pretrained best YOLOv8n model\n",
    "model = YOLO('./runs/detect/train6/weights/best.pt')"
   ]
  },
  {
   "cell_type": "code",
   "execution_count": null,
   "id": "ef1271bd-89c8-400b-acee-a8826b69a203",
   "metadata": {},
   "outputs": [],
   "source": [
    "# Run inference on all ga bee images and save results to text files\n",
    "\n",
    "path = '/home/c/dev/ai/ai_club/BusyBee/data/se_us_bee_data/'"
   ]
  },
  {
   "cell_type": "code",
   "execution_count": null,
   "id": "cd45e7fc-7a1a-4219-9044-c962dea956db",
   "metadata": {},
   "outputs": [],
   "source": [
    "# class 1\n",
    "model(path + \"Ammobatoidini\", save_txt=True, conf=0.3) "
   ]
  },
  {
   "cell_type": "code",
   "execution_count": null,
   "id": "fb0f197a-140f-468e-8a4b-9fcfbbd5ca7b",
   "metadata": {},
   "outputs": [],
   "source": [
    "# class 2\n",
    "model(path + \"Andrenini\", save_txt=True, conf=0.3)"
   ]
  },
  {
   "cell_type": "code",
   "execution_count": null,
   "id": "5dd77c51-2347-48b6-8465-d83e85e9ef91",
   "metadata": {},
   "outputs": [],
   "source": [
    "# class 3\n",
    "model(path + \"Anthidiini\", save_txt=True, conf=0.3) "
   ]
  },
  {
   "cell_type": "code",
   "execution_count": null,
   "id": "3a06d0c4-af06-44fa-b5e9-cdbf88e59f91",
   "metadata": {},
   "outputs": [],
   "source": [
    "# class 4\n",
    "results4 = model(path + \"Anthophorini\", save_txt=True, conf=0.3) "
   ]
  },
  {
   "cell_type": "code",
   "execution_count": null,
   "id": "c14a05d5-7766-4a2e-a300-b2d4ce09897d",
   "metadata": {},
   "outputs": [],
   "source": [
    "# class 5\n",
    "results = model(path + \"Apini\", save_txt=True, conf=0.3, stream=True)\n",
    "\n",
    "for result in results:\n",
    "    boxes = result.boxes\n",
    "    result.save()"
   ]
  },
  {
   "cell_type": "code",
   "execution_count": null,
   "id": "0a6bf536-2b21-408b-b82e-da5560b555e5",
   "metadata": {},
   "outputs": [],
   "source": [
    "# class 6\n",
    "model(path + \"Augochlorini\", save_txt=True, conf=0.3) "
   ]
  },
  {
   "cell_type": "code",
   "execution_count": null,
   "id": "e8a7e5a6-71d2-4491-ab5a-11ed3f1d2842",
   "metadata": {},
   "outputs": [],
   "source": [
    "# class 7\n",
    "model(path + \"Bombini\", save_txt=True, conf=0.3) "
   ]
  },
  {
   "cell_type": "code",
   "execution_count": null,
   "id": "8492bb87-c4f3-429d-af50-c69cae5c74e8",
   "metadata": {},
   "outputs": [],
   "source": [
    "# class 8\n",
    "model(path + \"Calliopsini\", save_txt=True, conf=0.3) "
   ]
  },
  {
   "cell_type": "code",
   "execution_count": null,
   "id": "bba544d0-0600-433f-82f5-b9a1a2ea4e6e",
   "metadata": {},
   "outputs": [],
   "source": [
    "# class 9\n",
    "model(path + \"Caupolicanini\", save_txt=True, conf=0.3) "
   ]
  },
  {
   "cell_type": "code",
   "execution_count": null,
   "id": "42c05449-19fd-4b4a-9703-159865d94c1c",
   "metadata": {},
   "outputs": [],
   "source": [
    "# Forgot about this class \n",
    "model(path + \"Centridini/images\", save_txt=True,conf=0.3)"
   ]
  },
  {
   "cell_type": "code",
   "execution_count": null,
   "id": "93aa05af-714b-40a4-bc94-ca5e49f48b70",
   "metadata": {},
   "outputs": [],
   "source": [
    "# class 10\n",
    "model(path + \"Ceratinini\", save_txt=True, conf=0.3) "
   ]
  },
  {
   "cell_type": "code",
   "execution_count": null,
   "id": "ce08da57-1985-4aab-b0cd-0dd7d10dca76",
   "metadata": {},
   "outputs": [],
   "source": [
    "# class 11\n",
    "model(path + \"Emphorini\", save_txt=True, conf=0.3) "
   ]
  },
  {
   "cell_type": "code",
   "execution_count": null,
   "id": "ccb51cd0-520f-4759-ae2a-3a14ef233ce8",
   "metadata": {},
   "outputs": [],
   "source": [
    "# class 12\n",
    "model(path + \"Epeolini\", save_txt=True, conf=0.3) "
   ]
  },
  {
   "cell_type": "code",
   "execution_count": null,
   "id": "caf40c22-3770-4d3e-b15d-e13b2d106371",
   "metadata": {},
   "outputs": [],
   "source": [
    "# class 13\n",
    "model(path + \"Eucerini\", save_txt=True, conf=0.3) "
   ]
  },
  {
   "cell_type": "code",
   "execution_count": null,
   "id": "37acb1ec-bcb7-4484-9674-05a779f3b227",
   "metadata": {},
   "outputs": [],
   "source": [
    "# class 14\n",
    "model(path + \"Halictini\", save_txt=True, conf=0.3) "
   ]
  },
  {
   "cell_type": "code",
   "execution_count": null,
   "id": "da3ee953-0fd1-4410-b595-9f6e36295b3b",
   "metadata": {},
   "outputs": [],
   "source": [
    "# class 15\n",
    "model(path + \"Megachilini\", save_txt=True, conf=0.3) "
   ]
  },
  {
   "cell_type": "code",
   "execution_count": null,
   "id": "a130e710-c212-4d00-88df-09b1be83a419",
   "metadata": {},
   "outputs": [],
   "source": [
    "# class 16\n",
    "model(path + \"Melectini\", save_txt=True, conf=0.3) "
   ]
  },
  {
   "cell_type": "code",
   "execution_count": null,
   "id": "eaddbb67-052a-4dff-b1f0-200606f42756",
   "metadata": {},
   "outputs": [],
   "source": [
    "# class 17\n",
    "model(path + \"Nomadini\", save_txt=True, conf=0.3) "
   ]
  },
  {
   "cell_type": "code",
   "execution_count": null,
   "id": "0b7b3b18-7ebf-447b-8fc6-abe863ba68da",
   "metadata": {},
   "outputs": [],
   "source": [
    "# class 18\n",
    "model(path + \"Osmiini\", save_txt=True, conf=0.3) "
   ]
  },
  {
   "cell_type": "code",
   "execution_count": null,
   "id": "7c2fbbe6-b0d9-4837-872d-31a3c75c7473",
   "metadata": {},
   "outputs": [],
   "source": [
    "# class 19\n",
    "model(path + \"Panurgini\", save_txt=True, conf=0.3) "
   ]
  },
  {
   "cell_type": "code",
   "execution_count": null,
   "id": "f884365e-fc8c-44eb-996a-0286bb6877df",
   "metadata": {},
   "outputs": [],
   "source": [
    "# class 20\n",
    "model(path + \"Protandrenini\", save_txt=True, conf=0.3) "
   ]
  },
  {
   "cell_type": "code",
   "execution_count": null,
   "id": "4ac718fe-20d9-4628-ac01-126a6e0dde66",
   "metadata": {},
   "outputs": [],
   "source": [
    "# class 21\n",
    "model(path + \"Sphecodini\", save_txt=True, conf=0.3) "
   ]
  },
  {
   "cell_type": "code",
   "execution_count": null,
   "id": "e6002822-4244-4d85-9319-d3a4c6e92051",
   "metadata": {},
   "outputs": [],
   "source": [
    "# class 22\n",
    "model(path + \"Xylocopini\", save_txt=True, conf=0.3) "
   ]
  },
  {
   "cell_type": "code",
   "execution_count": null,
   "id": "470ec43a-3622-4cbd-8dd3-ea0637e742cc",
   "metadata": {},
   "outputs": [],
   "source": []
  }
 ],
 "metadata": {
  "kernelspec": {
   "display_name": "torchgpu",
   "language": "python",
   "name": "torchgpu"
  },
  "language_info": {
   "codemirror_mode": {
    "name": "ipython",
    "version": 3
   },
   "file_extension": ".py",
   "mimetype": "text/x-python",
   "name": "python",
   "nbconvert_exporter": "python",
   "pygments_lexer": "ipython3",
   "version": "3.10.12"
  }
 },
 "nbformat": 4,
 "nbformat_minor": 5
}
