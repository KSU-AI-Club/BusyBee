{
 "cells": [
  {
   "cell_type": "code",
   "execution_count": 30,
   "id": "a5bd735b",
   "metadata": {},
   "outputs": [],
   "source": [
    "import numpy as np\n",
    "import pandas as pd\n",
    "\n",
    "import requests\n",
    "\n",
    "import seaborn as sns\n",
    "import matplotlib\n",
    "import matplotlib.pyplot as plt\n",
    "\n",
    "import os\n",
    "\n",
    "from sklearn.model_selection import train_test_split\n",
    "import concurrent.futures\n",
    "import multiprocessing\n",
    "\n",
    "import time\n",
    "from pathlib import Path\n",
    "\n",
    "from PIL import Image\n",
    "from io import BytesIO"
   ]
  },
  {
   "cell_type": "code",
   "execution_count": 31,
   "id": "810ca21b",
   "metadata": {},
   "outputs": [
    {
     "name": "stderr",
     "output_type": "stream",
     "text": [
      "C:\\Users\\Brand\\AppData\\Local\\Temp\\ipykernel_32688\\3255399422.py:1: DtypeWarning: Columns (14) have mixed types. Specify dtype option on import or set low_memory=False.\n",
      "  se_us_df = pd.read_csv(\"se_us_data.csv\")\n"
     ]
    }
   ],
   "source": [
    "se_us_df = pd.read_csv(\"se_us_data.csv\")\n",
    "df = se_us_df[[\"image_url\", \"taxon_tribe_name\"]]\n",
    "df = df[~df[\"taxon_tribe_name\"].isnull()]"
   ]
  },
  {
   "cell_type": "code",
   "execution_count": 32,
   "id": "f3823f66",
   "metadata": {},
   "outputs": [
    {
     "data": {
      "text/html": [
       "<div>\n",
       "<style scoped>\n",
       "    .dataframe tbody tr th:only-of-type {\n",
       "        vertical-align: middle;\n",
       "    }\n",
       "\n",
       "    .dataframe tbody tr th {\n",
       "        vertical-align: top;\n",
       "    }\n",
       "\n",
       "    .dataframe thead th {\n",
       "        text-align: right;\n",
       "    }\n",
       "</style>\n",
       "<table border=\"1\" class=\"dataframe\">\n",
       "  <thead>\n",
       "    <tr style=\"text-align: right;\">\n",
       "      <th></th>\n",
       "      <th>image_url</th>\n",
       "      <th>taxon_tribe_name</th>\n",
       "    </tr>\n",
       "  </thead>\n",
       "  <tbody>\n",
       "    <tr>\n",
       "      <th>0</th>\n",
       "      <td>https://static.inaturalist.org/photos/13815/me...</td>\n",
       "      <td>Xylocopini</td>\n",
       "    </tr>\n",
       "    <tr>\n",
       "      <th>1</th>\n",
       "      <td>https://static.inaturalist.org/photos/13816/me...</td>\n",
       "      <td>Xylocopini</td>\n",
       "    </tr>\n",
       "    <tr>\n",
       "      <th>2</th>\n",
       "      <td>https://static.inaturalist.org/photos/52156/me...</td>\n",
       "      <td>Bombini</td>\n",
       "    </tr>\n",
       "    <tr>\n",
       "      <th>3</th>\n",
       "      <td>https://static.inaturalist.org/photos/53599/me...</td>\n",
       "      <td>Bombini</td>\n",
       "    </tr>\n",
       "    <tr>\n",
       "      <th>4</th>\n",
       "      <td>https://static.inaturalist.org/photos/59086/me...</td>\n",
       "      <td>Eucerini</td>\n",
       "    </tr>\n",
       "    <tr>\n",
       "      <th>...</th>\n",
       "      <td>...</td>\n",
       "      <td>...</td>\n",
       "    </tr>\n",
       "    <tr>\n",
       "      <th>52909</th>\n",
       "      <td>https://inaturalist-open-data.s3.amazonaws.com...</td>\n",
       "      <td>Apini</td>\n",
       "    </tr>\n",
       "    <tr>\n",
       "      <th>52910</th>\n",
       "      <td>https://static.inaturalist.org/photos/34939705...</td>\n",
       "      <td>Xylocopini</td>\n",
       "    </tr>\n",
       "    <tr>\n",
       "      <th>52911</th>\n",
       "      <td>https://inaturalist-open-data.s3.amazonaws.com...</td>\n",
       "      <td>Bombini</td>\n",
       "    </tr>\n",
       "    <tr>\n",
       "      <th>52912</th>\n",
       "      <td>https://inaturalist-open-data.s3.amazonaws.com...</td>\n",
       "      <td>Xylocopini</td>\n",
       "    </tr>\n",
       "    <tr>\n",
       "      <th>52913</th>\n",
       "      <td>https://static.inaturalist.org/photos/34941452...</td>\n",
       "      <td>Xylocopini</td>\n",
       "    </tr>\n",
       "  </tbody>\n",
       "</table>\n",
       "<p>52396 rows × 2 columns</p>\n",
       "</div>"
      ],
      "text/plain": [
       "                                               image_url taxon_tribe_name\n",
       "0      https://static.inaturalist.org/photos/13815/me...       Xylocopini\n",
       "1      https://static.inaturalist.org/photos/13816/me...       Xylocopini\n",
       "2      https://static.inaturalist.org/photos/52156/me...          Bombini\n",
       "3      https://static.inaturalist.org/photos/53599/me...          Bombini\n",
       "4      https://static.inaturalist.org/photos/59086/me...         Eucerini\n",
       "...                                                  ...              ...\n",
       "52909  https://inaturalist-open-data.s3.amazonaws.com...            Apini\n",
       "52910  https://static.inaturalist.org/photos/34939705...       Xylocopini\n",
       "52911  https://inaturalist-open-data.s3.amazonaws.com...          Bombini\n",
       "52912  https://inaturalist-open-data.s3.amazonaws.com...       Xylocopini\n",
       "52913  https://static.inaturalist.org/photos/34941452...       Xylocopini\n",
       "\n",
       "[52396 rows x 2 columns]"
      ]
     },
     "execution_count": 32,
     "metadata": {},
     "output_type": "execute_result"
    }
   ],
   "source": [
    "df"
   ]
  },
  {
   "cell_type": "code",
   "execution_count": 33,
   "id": "4eac475d",
   "metadata": {},
   "outputs": [],
   "source": [
    "def scrape_bee_image(url_series:pd.Series) -> list:\n",
    "    \"\"\"\n",
    "    Iterates through the url series and requests these url links to get the images\n",
    "    Uses requests to get image content and PIL to convert the request content into an Image\n",
    "\n",
    "    Args:\n",
    "        url_series (pd.Series): a Pandas Series that includes all the urls for the pictures\n",
    "\n",
    "    Returns:\n",
    "        list: a list of PIL Image that can be shown using matplotlib show() method\n",
    "    \"\"\"\n",
    "    \n",
    "    total_img = len(url_series)\n",
    "    bee_images = []\n",
    "    failed_requests = []\n",
    "    time_stats = []\n",
    "    \n",
    "    epoch_div_time = time.time()\n",
    "    start_time = time.time()\n",
    "    for i in range(1000): # set the 1000 for now, should be the size of the entire dataset\n",
    "        epoch_time = time.time()\n",
    "        try:\n",
    "            url = url_series.iloc[i]\n",
    "\n",
    "            response = requests.get(url)\n",
    "            img = Image.open(BytesIO(response.content))\n",
    "            \n",
    "            bee_images.append(img)\n",
    "            time_stats.append(time.time() - epoch_time)\n",
    "            \n",
    "            if i % 10 == 0:\n",
    "                print(f\"Image {i}: Total Run Time -> {time.time() - epoch_div_time}\")\n",
    "                epoch_div_time = time.time()\n",
    "                \n",
    "        except:\n",
    "            failed_requests.append(i)\n",
    "            print(\"Error 404: Failure to Access Image URL\")\n",
    "    \n",
    "#     print(f\"\\nTotal Time in Minutes {(time.time() - start_time) / 60}\")\n",
    "    return bee_images #, time_stats, failed_requests"
   ]
  },
  {
   "cell_type": "code",
   "execution_count": 34,
   "id": "ea359442",
   "metadata": {},
   "outputs": [],
   "source": [
    "# start = time.perf_counter()\n",
    "# scrape_bee_image(df[\"image_url\"])\n",
    "\n",
    "# end = time.perf_counter()\n",
    "# print(f\"Finished in {round(end-start, 2)} seconds(s)\")"
   ]
  },
  {
   "cell_type": "code",
   "execution_count": 35,
   "id": "90752962",
   "metadata": {},
   "outputs": [],
   "source": [
    "def PIL_conversion(url):\n",
    "\n",
    "    response = requests.get(url)\n",
    "    img = Image.open(BytesIO(response.content))\n",
    "    \n",
    "    return img"
   ]
  },
  {
   "cell_type": "code",
   "execution_count": 36,
   "id": "ff3e77e3",
   "metadata": {},
   "outputs": [],
   "source": [
    "# start = time.perf_counter()\n",
    "\n",
    "# df.image_url.iloc[:100].apply(PIL_conversion)\n",
    "\n",
    "# end = time.perf_counter()\n",
    "# print(f\"Finished in {round(end-start, 2)} seconds(s)\")"
   ]
  },
  {
   "cell_type": "code",
   "execution_count": null,
   "id": "11a25c7b",
   "metadata": {},
   "outputs": [],
   "source": [
    "start = time.perf_counter()\n",
    "\n",
    "\n",
    "p = multiprocessing.Process(target=scrape_bee_image(df[\"image_url\"]))\n",
    "p.start()\n",
    "\n",
    "p.join()\n",
    "\n",
    "end = time.perf_counter()\n",
    "print(f\"Finished in {round(end-start, 2)} seconds(s)\")"
   ]
  },
  {
   "cell_type": "code",
   "execution_count": 46,
   "id": "5e97a8a7",
   "metadata": {},
   "outputs": [],
   "source": [
    "def do_something(sec):\n",
    "    start = time.time()\n",
    "    time.sleep(sec)\n",
    "    end = time.time()\n",
    "    \n",
    "    print(end - start)\n",
    "    return sec"
   ]
  },
  {
   "cell_type": "code",
   "execution_count": 48,
   "id": "825d0e82",
   "metadata": {},
   "outputs": [
    {
     "name": "stdout",
     "output_type": "stream",
     "text": [
      "Finished in 0.2 seconds(s)\n"
     ]
    }
   ],
   "source": [
    "start = time.perf_counter()\n",
    "\n",
    "with concurrent.futures.ProcessPoolExecutor() as executor:\n",
    "    t1 = executor.submit(do_something)\n",
    "#     print(t1.result())\n",
    "\n",
    "end = time.perf_counter()\n",
    "print(f\"Finished in {round(end-start, 2)} seconds(s)\")\n"
   ]
  },
  {
   "cell_type": "code",
   "execution_count": null,
   "id": "b1363f9e",
   "metadata": {},
   "outputs": [],
   "source": []
  }
 ],
 "metadata": {
  "kernelspec": {
   "display_name": "Python 3 (ipykernel)",
   "language": "python",
   "name": "python3"
  },
  "language_info": {
   "codemirror_mode": {
    "name": "ipython",
    "version": 3
   },
   "file_extension": ".py",
   "mimetype": "text/x-python",
   "name": "python",
   "nbconvert_exporter": "python",
   "pygments_lexer": "ipython3",
   "version": "3.9.12"
  }
 },
 "nbformat": 4,
 "nbformat_minor": 5
}
